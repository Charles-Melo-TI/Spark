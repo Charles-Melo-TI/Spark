{
  "nbformat": 4,
  "nbformat_minor": 0,
  "metadata": {
    "colab": {
      "provenance": []
    },
    "kernelspec": {
      "name": "python3",
      "display_name": "Python 3"
    },
    "language_info": {
      "name": "python"
    }
  },
  "cells": [
    {
      "cell_type": "code",
      "source": [
        "'''\n",
        "                                                            # MIT em Engenharia de Dados: Big Data\n",
        "                                                            # Análise de dados com Spark\n",
        "\n",
        "Professor: Andre Ormastroni\n",
        "Aluno: Charles de Araujo Melo\n",
        "\n",
        "\n",
        "'''"
      ],
      "metadata": {
        "id": "4fsh2G3dBSPh"
      },
      "execution_count": null,
      "outputs": []
    },
    {
      "cell_type": "code",
      "source": [
        "# Minha base de dados é de uma loja de venda de bicicletas onde utilizarei para identificar vantagens\n",
        "# empresariais para futuro aumento de vendas e conhecer melhor as características dos clientes para maiores captações."
      ],
      "metadata": {
        "id": "lhXUd1Ll7ZLY"
      },
      "execution_count": null,
      "outputs": []
    },
    {
      "cell_type": "markdown",
      "source": [
        "# Instalando o pyspark"
      ],
      "metadata": {
        "id": "tz392-kWiw8V"
      }
    },
    {
      "cell_type": "code",
      "execution_count": null,
      "metadata": {
        "id": "pfXt8C7JCieR",
        "colab": {
          "base_uri": "https://localhost:8080/"
        },
        "outputId": "50333b99-db5e-482f-f444-d1e259713672"
      },
      "outputs": [
        {
          "output_type": "stream",
          "name": "stdout",
          "text": [
            "Requirement already satisfied: pyspark in /usr/local/lib/python3.10/dist-packages (3.5.0)\n",
            "Requirement already satisfied: py4j==0.10.9.7 in /usr/local/lib/python3.10/dist-packages (from pyspark) (0.10.9.7)\n"
          ]
        }
      ],
      "source": [
        "!pip install pyspark"
      ]
    },
    {
      "cell_type": "code",
      "source": [
        "from google.colab import files\n",
        "uploaded = files.upload()"
      ],
      "metadata": {
        "colab": {
          "base_uri": "https://localhost:8080/",
          "height": 142
        },
        "id": "FO6S1HHgZIPm",
        "outputId": "9e1ab4a9-a1b6-4a63-da18-4e6bc474b14d"
      },
      "execution_count": null,
      "outputs": [
        {
          "output_type": "display_data",
          "data": {
            "text/plain": [
              "<IPython.core.display.HTML object>"
            ],
            "text/html": [
              "\n",
              "     <input type=\"file\" id=\"files-165beb7f-e093-4801-8834-8296927beca2\" name=\"files[]\" multiple disabled\n",
              "        style=\"border:none\" />\n",
              "     <output id=\"result-165beb7f-e093-4801-8834-8296927beca2\">\n",
              "      Upload widget is only available when the cell has been executed in the\n",
              "      current browser session. Please rerun this cell to enable.\n",
              "      </output>\n",
              "      <script>// Copyright 2017 Google LLC\n",
              "//\n",
              "// Licensed under the Apache License, Version 2.0 (the \"License\");\n",
              "// you may not use this file except in compliance with the License.\n",
              "// You may obtain a copy of the License at\n",
              "//\n",
              "//      http://www.apache.org/licenses/LICENSE-2.0\n",
              "//\n",
              "// Unless required by applicable law or agreed to in writing, software\n",
              "// distributed under the License is distributed on an \"AS IS\" BASIS,\n",
              "// WITHOUT WARRANTIES OR CONDITIONS OF ANY KIND, either express or implied.\n",
              "// See the License for the specific language governing permissions and\n",
              "// limitations under the License.\n",
              "\n",
              "/**\n",
              " * @fileoverview Helpers for google.colab Python module.\n",
              " */\n",
              "(function(scope) {\n",
              "function span(text, styleAttributes = {}) {\n",
              "  const element = document.createElement('span');\n",
              "  element.textContent = text;\n",
              "  for (const key of Object.keys(styleAttributes)) {\n",
              "    element.style[key] = styleAttributes[key];\n",
              "  }\n",
              "  return element;\n",
              "}\n",
              "\n",
              "// Max number of bytes which will be uploaded at a time.\n",
              "const MAX_PAYLOAD_SIZE = 100 * 1024;\n",
              "\n",
              "function _uploadFiles(inputId, outputId) {\n",
              "  const steps = uploadFilesStep(inputId, outputId);\n",
              "  const outputElement = document.getElementById(outputId);\n",
              "  // Cache steps on the outputElement to make it available for the next call\n",
              "  // to uploadFilesContinue from Python.\n",
              "  outputElement.steps = steps;\n",
              "\n",
              "  return _uploadFilesContinue(outputId);\n",
              "}\n",
              "\n",
              "// This is roughly an async generator (not supported in the browser yet),\n",
              "// where there are multiple asynchronous steps and the Python side is going\n",
              "// to poll for completion of each step.\n",
              "// This uses a Promise to block the python side on completion of each step,\n",
              "// then passes the result of the previous step as the input to the next step.\n",
              "function _uploadFilesContinue(outputId) {\n",
              "  const outputElement = document.getElementById(outputId);\n",
              "  const steps = outputElement.steps;\n",
              "\n",
              "  const next = steps.next(outputElement.lastPromiseValue);\n",
              "  return Promise.resolve(next.value.promise).then((value) => {\n",
              "    // Cache the last promise value to make it available to the next\n",
              "    // step of the generator.\n",
              "    outputElement.lastPromiseValue = value;\n",
              "    return next.value.response;\n",
              "  });\n",
              "}\n",
              "\n",
              "/**\n",
              " * Generator function which is called between each async step of the upload\n",
              " * process.\n",
              " * @param {string} inputId Element ID of the input file picker element.\n",
              " * @param {string} outputId Element ID of the output display.\n",
              " * @return {!Iterable<!Object>} Iterable of next steps.\n",
              " */\n",
              "function* uploadFilesStep(inputId, outputId) {\n",
              "  const inputElement = document.getElementById(inputId);\n",
              "  inputElement.disabled = false;\n",
              "\n",
              "  const outputElement = document.getElementById(outputId);\n",
              "  outputElement.innerHTML = '';\n",
              "\n",
              "  const pickedPromise = new Promise((resolve) => {\n",
              "    inputElement.addEventListener('change', (e) => {\n",
              "      resolve(e.target.files);\n",
              "    });\n",
              "  });\n",
              "\n",
              "  const cancel = document.createElement('button');\n",
              "  inputElement.parentElement.appendChild(cancel);\n",
              "  cancel.textContent = 'Cancel upload';\n",
              "  const cancelPromise = new Promise((resolve) => {\n",
              "    cancel.onclick = () => {\n",
              "      resolve(null);\n",
              "    };\n",
              "  });\n",
              "\n",
              "  // Wait for the user to pick the files.\n",
              "  const files = yield {\n",
              "    promise: Promise.race([pickedPromise, cancelPromise]),\n",
              "    response: {\n",
              "      action: 'starting',\n",
              "    }\n",
              "  };\n",
              "\n",
              "  cancel.remove();\n",
              "\n",
              "  // Disable the input element since further picks are not allowed.\n",
              "  inputElement.disabled = true;\n",
              "\n",
              "  if (!files) {\n",
              "    return {\n",
              "      response: {\n",
              "        action: 'complete',\n",
              "      }\n",
              "    };\n",
              "  }\n",
              "\n",
              "  for (const file of files) {\n",
              "    const li = document.createElement('li');\n",
              "    li.append(span(file.name, {fontWeight: 'bold'}));\n",
              "    li.append(span(\n",
              "        `(${file.type || 'n/a'}) - ${file.size} bytes, ` +\n",
              "        `last modified: ${\n",
              "            file.lastModifiedDate ? file.lastModifiedDate.toLocaleDateString() :\n",
              "                                    'n/a'} - `));\n",
              "    const percent = span('0% done');\n",
              "    li.appendChild(percent);\n",
              "\n",
              "    outputElement.appendChild(li);\n",
              "\n",
              "    const fileDataPromise = new Promise((resolve) => {\n",
              "      const reader = new FileReader();\n",
              "      reader.onload = (e) => {\n",
              "        resolve(e.target.result);\n",
              "      };\n",
              "      reader.readAsArrayBuffer(file);\n",
              "    });\n",
              "    // Wait for the data to be ready.\n",
              "    let fileData = yield {\n",
              "      promise: fileDataPromise,\n",
              "      response: {\n",
              "        action: 'continue',\n",
              "      }\n",
              "    };\n",
              "\n",
              "    // Use a chunked sending to avoid message size limits. See b/62115660.\n",
              "    let position = 0;\n",
              "    do {\n",
              "      const length = Math.min(fileData.byteLength - position, MAX_PAYLOAD_SIZE);\n",
              "      const chunk = new Uint8Array(fileData, position, length);\n",
              "      position += length;\n",
              "\n",
              "      const base64 = btoa(String.fromCharCode.apply(null, chunk));\n",
              "      yield {\n",
              "        response: {\n",
              "          action: 'append',\n",
              "          file: file.name,\n",
              "          data: base64,\n",
              "        },\n",
              "      };\n",
              "\n",
              "      let percentDone = fileData.byteLength === 0 ?\n",
              "          100 :\n",
              "          Math.round((position / fileData.byteLength) * 100);\n",
              "      percent.textContent = `${percentDone}% done`;\n",
              "\n",
              "    } while (position < fileData.byteLength);\n",
              "  }\n",
              "\n",
              "  // All done.\n",
              "  yield {\n",
              "    response: {\n",
              "      action: 'complete',\n",
              "    }\n",
              "  };\n",
              "}\n",
              "\n",
              "scope.google = scope.google || {};\n",
              "scope.google.colab = scope.google.colab || {};\n",
              "scope.google.colab._files = {\n",
              "  _uploadFiles,\n",
              "  _uploadFilesContinue,\n",
              "};\n",
              "})(self);\n",
              "</script> "
            ]
          },
          "metadata": {}
        },
        {
          "output_type": "stream",
          "name": "stdout",
          "text": [
            "Saving demogra_cliente.csv to demogra_cliente.csv\n",
            "Saving end_cliente.csv to end_cliente.csv\n",
            "Saving transacoes.csv to transacoes.csv\n"
          ]
        }
      ]
    },
    {
      "cell_type": "code",
      "source": [
        "#Importando os módulos\n",
        "\n",
        "from pyspark.sql import SparkSession\n",
        "from pyspark.sql.functions import count, desc , col, max, when, isnan"
      ],
      "metadata": {
        "id": "isyZ88vucZVs"
      },
      "execution_count": null,
      "outputs": []
    },
    {
      "cell_type": "code",
      "source": [
        "from pyspark.sql import *\n",
        "from pyspark.sql.types import *"
      ],
      "metadata": {
        "id": "pge8w_iOz1r6"
      },
      "execution_count": null,
      "outputs": []
    },
    {
      "cell_type": "code",
      "source": [
        "#crie ou recupere sua spark session\n",
        "\n",
        "spark = SparkSession.builder.appName(\"Trabalho\").master('local[*]').getOrCreate()"
      ],
      "metadata": {
        "id": "oIqgNUawds7j"
      },
      "execution_count": 26,
      "outputs": []
    },
    {
      "cell_type": "code",
      "source": [
        "#Importando os arquivos transacoes.csv, end_cliente.csv e demogra_cliente.csv do dataset\n",
        "\n",
        "df_transacoes = spark.read.csv(path='transacoes.csv',header=True,inferSchema=True)\n",
        "df_end_cliente = spark.read.csv(path='end_cliente.csv',header=True,inferSchema=True)\n",
        "df_demogra_cliente = spark.read.csv(path='demogra_cliente.csv',header=True,inferSchema=True)"
      ],
      "metadata": {
        "id": "Lu_UJe4Cd18x"
      },
      "execution_count": null,
      "outputs": []
    },
    {
      "cell_type": "code",
      "source": [
        "# Conferindo as primeiras linhas"
      ],
      "metadata": {
        "id": "JR91R8PgkuNY"
      },
      "execution_count": null,
      "outputs": []
    },
    {
      "cell_type": "code",
      "source": [
        "df_transacoes.show()"
      ],
      "metadata": {
        "colab": {
          "base_uri": "https://localhost:8080/"
        },
        "id": "78NDKJ2ieBHC",
        "outputId": "8eb2645d-b79e-4efd-b865-d20a113cf378"
      },
      "execution_count": null,
      "outputs": [
        {
          "output_type": "stream",
          "name": "stdout",
          "text": [
            "+--------------+----------+-----------+----+---------+---+-------------+-------------+--------------+-------------+--------------+---------------+-----------+------------+\n",
            "|transaction_id|product_id|customer_id| Ano|      Mês|Dia|pedido_online|status_pedido|         marca|linha_produto|classe_produto|tamanho_produto|preco_lista|custo_padrao|\n",
            "+--------------+----------+-----------+----+---------+---+-------------+-------------+--------------+-------------+--------------+---------------+-----------+------------+\n",
            "|             1|         2|       2950|2017|fevereiro| 25|        false|     Approved|         Solex|     Standard|        medium|         medium|       7149|        5362|\n",
            "|             2|         3|       3120|2017|     maio| 21|         true|     Approved| Trek Bicycles|     Standard|        medium|          large|     209147|       38892|\n",
            "|             3|        37|        402|2017|  outubro| 16|        false|     Approved|    OHM Cycles|     Standard|           low|         medium|     179343|       24882|\n",
            "|             4|        88|       3135|2017|   agosto| 31|        false|     Approved|Norco Bicycles|     Standard|        medium|         medium|     119846|       38110|\n",
            "|             5|        78|        787|2017|  outubro|  1|         true|     Approved|Giant Bicycles|     Standard|        medium|          large|      17653|       70948|\n",
            "|             6|        25|       2339|2017|    março|  8|         true|     Approved|Giant Bicycles|         Road|        medium|         medium|     153899|       82965|\n",
            "|             7|        22|       1542|2017|    abril| 21|         true|     Approved|      WeareA2B|     Standard|        medium|         medium|       6034|        4526|\n",
            "|             8|        15|       2459|2017|    julho| 15|        false|     Approved|      WeareA2B|     Standard|        medium|         medium|     129284|        1344|\n",
            "|             9|        67|       1305|2017|   agosto| 10|        false|     Approved|         Solex|     Standard|        medium|          large|     107123|       38074|\n",
            "|            10|        12|       3262|2017|   agosto| 30|         true|     Approved|      WeareA2B|     Standard|        medium|         medium|     123115|       16160|\n",
            "|            11|         5|       1986|2017|  janeiro| 17|        false|     Approved| Trek Bicycles|     Mountain|           low|         medium|      57464|       45971|\n",
            "|            12|        61|       2783|2017|  janeiro|  5|         true|     Approved|    OHM Cycles|     Standard|           low|         medium|       7116|        5693|\n",
            "|            13|        35|       1243|2017|fevereiro| 26|         true|     Approved| Trek Bicycles|     Standard|           low|         medium|     105751|       15440|\n",
            "|            15|        12|        247|2017|    junho| 11|        false|     Approved|Giant Bicycles|     Standard|        medium|          large|      17653|       70948|\n",
            "|            16|         3|       2961|2017|  outubro| 10|        false|     Approved| Trek Bicycles|     Standard|        medium|          large|     209147|       38892|\n",
            "|            17|        79|       2426|2017|    abril|  3|        false|     Approved|Norco Bicycles|     Standard|        medium|         medium|     155558|       81801|\n",
            "|            19|        54|       2268|2017|    abril|  6|         true|     Approved|      WeareA2B|     Standard|        medium|         medium|     129284|        1344|\n",
            "|            20|        25|       3002|2017|  janeiro| 28|         true|     Approved|Giant Bicycles|         Road|        medium|         medium|     153899|       82965|\n",
            "|            21|        27|       1582|2017|  outubro|  9|        false|     Approved| Trek Bicycles|     Standard|        medium|         medium|      49953|       38872|\n",
            "|            22|        37|        595|2017|    junho| 29|         true|     Approved|    OHM Cycles|     Standard|           low|         medium|     179343|       24882|\n",
            "+--------------+----------+-----------+----+---------+---+-------------+-------------+--------------+-------------+--------------+---------------+-----------+------------+\n",
            "only showing top 20 rows\n",
            "\n"
          ]
        }
      ]
    },
    {
      "cell_type": "code",
      "source": [
        "df_end_cliente.show()"
      ],
      "metadata": {
        "colab": {
          "base_uri": "https://localhost:8080/"
        },
        "id": "utbzayMSkdPm",
        "outputId": "53019fc7-98b0-467e-9b7c-b9bfbd867dfa"
      },
      "execution_count": null,
      "outputs": [
        {
          "output_type": "stream",
          "name": "stdout",
          "text": [
            "+-----------+--------------------+---------------+---------+-------------+\n",
            "|customer_id|            endereco|         estado|     pais|codigo_postal|\n",
            "+-----------+--------------------+---------------+---------+-------------+\n",
            "|          1|  060 Morning Avenue|New South Wales|Australia|         2016|\n",
            "|          2| 6 Meadow Vale Court|New South Wales|Australia|         2153|\n",
            "|          4|  0 Holy Cross Court|            QLD|Australia|         4211|\n",
            "|          5| 17979 Del Mar Point|New South Wales|Australia|         2448|\n",
            "|          6|    9 Oakridge Court|            VIC|Australia|         3216|\n",
            "|          7|    4 Delaware Trail|New South Wales|Australia|         2210|\n",
            "|          8| 49 Londonderry Lane|New South Wales|Australia|         2650|\n",
            "|          9|     97736 7th Trail|New South Wales|Australia|         2023|\n",
            "|         11|93405 Ludington Park|            VIC|Australia|         3044|\n",
            "|         12|44339 Golden Leaf...|            QLD|Australia|         4557|\n",
            "|         13| 2 Sutherland Street|            VIC|Australia|         3799|\n",
            "|         14|     9 Mcbride Trail|New South Wales|Australia|         2760|\n",
            "|         15|9861 New Castle A...|New South Wales|Australia|         2428|\n",
            "|         16|    52 Moland Street|            VIC|Australia|         3331|\n",
            "|         17|82391 Kensington ...|            VIC|Australia|         3058|\n",
            "|         18|       092 2nd Alley|New South Wales|Australia|         2135|\n",
            "|         19|   59 Spaight Circle|New South Wales|Australia|         2233|\n",
            "|         20|032 Bartelt Crossing|New South Wales|Australia|         2444|\n",
            "|         21|     18 Jenna Center|New South Wales|Australia|         2650|\n",
            "|         24|    3 Cordelia Plaza|New South Wales|Australia|         2153|\n",
            "+-----------+--------------------+---------------+---------+-------------+\n",
            "only showing top 20 rows\n",
            "\n"
          ]
        }
      ]
    },
    {
      "cell_type": "code",
      "source": [
        "df_demogra_cliente.show()"
      ],
      "metadata": {
        "colab": {
          "base_uri": "https://localhost:8080/"
        },
        "id": "RkkCBxs4kjot",
        "outputId": "c29fc15c-ad3b-45e3-9c59-20123243ccfe"
      },
      "execution_count": null,
      "outputs": [
        {
          "output_type": "stream",
          "name": "stdout",
          "text": [
            "+-----------+--------------+---------+------+-------------------------+----+---------+---+--------------------+------------------+-----------------+------------+--------+\n",
            "|customer_id|          nome|sobrenome|  sexo|compra_bike_ultimo_3_anos| Ano|      Mês|Dia|               cargo|   categoria_cargo|         segmento|possui_carro|falecido|\n",
            "+-----------+--------------+---------+------+-------------------------+----+---------+---+--------------------+------------------+-----------------+------------+--------+\n",
            "|          1|       Laraine|Medendorp|Female|                       93|1953|  outubro| 12| Executive Secretary|            Health|    Mass Customer|         Yes|       N|\n",
            "|          2|           Eli|  Bockman|  Male|                       81|1980| dezembro| 16|Administrative Of...|Financial Services|    Mass Customer|         Yes|       N|\n",
            "|          3|         Arlin|   Dearle|  Male|                       61|1954|  janeiro| 20|  Recruiting Manager|          Property|    Mass Customer|         Yes|       N|\n",
            "|          4|        Talbot|     NULL|  Male|                       33|1961|  outubro|  3|                NULL|                IT|    Mass Customer|          No|       N|\n",
            "|          5|Sheila-kathryn|   Calton|Female|                       56|1977|     maio| 13|       Senior Editor|               n/a|Affluent Customer|         Yes|       N|\n",
            "|          6|          Curr|Duckhouse|  Male|                       35|1966| setembro| 16|                NULL|            Retail|   High Net Worth|         Yes|       N|\n",
            "|          7|          Fina|   Merali|Female|                        6|1976|fevereiro| 23|                NULL|Financial Services|Affluent Customer|         Yes|       N|\n",
            "|          8|           Rod|    Inder|  Male|                       31|1962|    março| 30|     Media Manager I|               n/a|    Mass Customer|          No|       N|\n",
            "|          9|          Mala|     Lind|Female|                       97|1973|    março| 10|Business Systems ...|       Argiculture|Affluent Customer|         Yes|       N|\n",
            "|         10|      Fiorenze|  Birdall|Female|                       49|1988|  outubro| 11|Senior Quality En...|Financial Services|    Mass Customer|         Yes|       N|\n",
            "|         11|         Uriah|   Bisatt|  Male|                       99|1954|    abril| 30|                NULL|          Property|    Mass Customer|          No|       N|\n",
            "|         12|       Sawyere| Flattman|  Male|                       58|1994|    julho| 21|Nuclear Power Eng...|     Manufacturing|    Mass Customer|          No|       N|\n",
            "|         13|      Gabriele| Norcross|  Male|                       38|1955|fevereiro| 15|         Developer I|Financial Services|   High Net Worth|         Yes|       N|\n",
            "|         14|      Rayshell| Kitteman|Female|                       85|1983|    março| 25|   Account Executive|Financial Services|Affluent Customer|          No|       N|\n",
            "|         15|        Erroll|   Radage|  Male|                       91|2000|    julho| 13|    Junior Executive|     Manufacturing|    Mass Customer|          No|       N|\n",
            "|         16|        Harlin|     Parr|  Male|                       38|1977|fevereiro| 27|    Media Manager IV|               n/a|    Mass Customer|         Yes|       N|\n",
            "|         17|         Heath|  Faraday|  Male|                       57|1962|    março| 19|     Sales Associate|               n/a|Affluent Customer|         Yes|       N|\n",
            "|         18|        Marjie|  Neasham|Female|                       79|1967|    julho|  6|           Professor|               n/a|Affluent Customer|          No|       N|\n",
            "|         19|        Sorcha|   Keyson|Female|                       76|2001|    abril| 15| Geological Engineer|     Manufacturing|   High Net Worth|          No|       N|\n",
            "|         20|        Basile|    Firth|  Male|                       72|1980|   agosto| 13|     Project Manager|     Manufacturing|    Mass Customer|          No|       N|\n",
            "+-----------+--------------+---------+------+-------------------------+----+---------+---+--------------------+------------------+-----------------+------------+--------+\n",
            "only showing top 20 rows\n",
            "\n"
          ]
        }
      ]
    },
    {
      "cell_type": "code",
      "source": [
        "# Verificando as descrições de cada tabela"
      ],
      "metadata": {
        "id": "SxIV9LRmk8j5"
      },
      "execution_count": null,
      "outputs": []
    },
    {
      "cell_type": "code",
      "source": [
        "df_transacoes.describe().show()"
      ],
      "metadata": {
        "colab": {
          "base_uri": "https://localhost:8080/"
        },
        "id": "jbEn0IHDeK4o",
        "outputId": "a127546c-4d40-4253-96f1-bf04a06cdf82"
      },
      "execution_count": null,
      "outputs": [
        {
          "output_type": "stream",
          "name": "stdout",
          "text": [
            "+-------+-----------------+------------------+------------------+------+--------+------------------+-------------+--------------+-------------+--------------+---------------+-----------------+--------------------+\n",
            "|summary|   transaction_id|        product_id|       customer_id|   Ano|     Mês|               Dia|status_pedido|         marca|linha_produto|classe_produto|tamanho_produto|      preco_lista|        custo_padrao|\n",
            "+-------+-----------------+------------------+------------------+------+--------+------------------+-------------+--------------+-------------+--------------+---------------+-----------------+--------------------+\n",
            "|  count|            17564|             17564|             17564| 17564|   17564|             17564|        17564|         17367|        17367|         17367|          17367|            17564|               17367|\n",
            "|   mean|9997.536267365065| 45.47102026873149|1738.8473012981099|2017.0|    NULL|15.520951947164654|         NULL|          NULL|         NULL|          NULL|           NULL|89419.95206103394|   764397.8839753555|\n",
            "| stddev|5777.595210494077|30.968005751891837|1012.4591560656893|   0.0|    NULL| 8.672488291255123|         NULL|          NULL|         NULL|          NULL|           NULL|62201.04317812743|5.9567091024440184E7|\n",
            "|    min|                1|                 0|                 1|  2017|   abril|                 1|     Approved|Giant Bicycles|     Mountain|          high|          large|              850|                 721|\n",
            "|    max|            19999|               100|              5034|  2017|setembro|                31|    Cancelled|      WeareA2B|      Touring|        medium|          small|           209147|          6674000244|\n",
            "+-------+-----------------+------------------+------------------+------+--------+------------------+-------------+--------------+-------------+--------------+---------------+-----------------+--------------------+\n",
            "\n"
          ]
        }
      ]
    },
    {
      "cell_type": "code",
      "source": [
        "df_end_cliente.describe().show()"
      ],
      "metadata": {
        "colab": {
          "base_uri": "https://localhost:8080/"
        },
        "id": "DrUJYlxKlJo1",
        "outputId": "6f98ba87-2bcd-4190-fee6-b854032bce43"
      },
      "execution_count": null,
      "outputs": [
        {
          "output_type": "stream",
          "name": "stdout",
          "text": [
            "+-------+------------------+--------------------+--------+---------+-----------------+\n",
            "|summary|       customer_id|            endereco|  estado|     pais|    codigo_postal|\n",
            "+-------+------------------+--------------------+--------+---------+-----------------+\n",
            "|  count|              3999|                3999|    3999|     3999|             3999|\n",
            "|   mean|2003.9879969992498|                NULL|    NULL|     NULL|2985.755938984746|\n",
            "| stddev|1154.5769124572676|                NULL|    NULL|     NULL|844.8783644255834|\n",
            "|    min|                 1|          0 3rd Road|     NSW|Australia|             2000|\n",
            "|    max|              4003|9993 Mccormick St...|Victoria|Australia|             4883|\n",
            "+-------+------------------+--------------------+--------+---------+-----------------+\n",
            "\n"
          ]
        }
      ]
    },
    {
      "cell_type": "code",
      "source": [
        "df_demogra_cliente.describe().show()"
      ],
      "metadata": {
        "colab": {
          "base_uri": "https://localhost:8080/"
        },
        "id": "kr2juWtzlRXM",
        "outputId": "93bbf761-639d-4924-c83f-252a4acc2e87"
      },
      "execution_count": null,
      "outputs": [
        {
          "output_type": "stream",
          "name": "stdout",
          "text": [
            "+-------+------------------+------+---------+------+-------------------------+------------------+--------+-----------------+-------------------+---------------+-----------------+------------+--------+\n",
            "|summary|       customer_id|  nome|sobrenome|  sexo|compra_bike_ultimo_3_anos|               Ano|     Mês|              Dia|              cargo|categoria_cargo|         segmento|possui_carro|falecido|\n",
            "+-------+------------------+------+---------+------+-------------------------+------------------+--------+-----------------+-------------------+---------------+-----------------+------------+--------+\n",
            "|  count|              4000|  4000|     3875|  4000|                     4000|              3913|    3913|             3913|               3494|           4000|             4000|        4000|    4000|\n",
            "|   mean|            2000.5|  NULL|     NULL|  NULL|                    48.89|1977.0306670074112|    NULL|15.76463071811909|               NULL|           NULL|             NULL|        NULL|    NULL|\n",
            "| stddev|1154.8448669265786|  NULL|     NULL|  NULL|       28.715005448101042| 12.79638720701747|    NULL| 8.77936534446437|               NULL|           NULL|             NULL|        NULL|    NULL|\n",
            "|    min|                 1|Aarika|   Aarons|Female|                        0|              1843|   abril|                1|Account Coordinator|    Argiculture|Affluent Customer|          No|       N|\n",
            "|    max|              4000|Zulema| cornhill|  Male|                       99|              2002|setembro|               31|   Web Developer IV|            n/a|    Mass Customer|         Yes|       Y|\n",
            "+-------+------------------+------+---------+------+-------------------------+------------------+--------+-----------------+-------------------+---------------+-----------------+------------+--------+\n",
            "\n"
          ]
        }
      ]
    },
    {
      "cell_type": "code",
      "source": [
        "df_transacoes.summary().show()"
      ],
      "metadata": {
        "colab": {
          "base_uri": "https://localhost:8080/"
        },
        "id": "BM3y-v8zeTda",
        "outputId": "b8a9ee74-5f17-493c-f6a7-712814c267c2"
      },
      "execution_count": null,
      "outputs": [
        {
          "output_type": "stream",
          "name": "stdout",
          "text": [
            "+-------+-----------------+------------------+------------------+------+--------+------------------+-------------+--------------+-------------+--------------+---------------+-----------------+--------------------+\n",
            "|summary|   transaction_id|        product_id|       customer_id|   Ano|     Mês|               Dia|status_pedido|         marca|linha_produto|classe_produto|tamanho_produto|      preco_lista|        custo_padrao|\n",
            "+-------+-----------------+------------------+------------------+------+--------+------------------+-------------+--------------+-------------+--------------+---------------+-----------------+--------------------+\n",
            "|  count|            17564|             17564|             17564| 17564|   17564|             17564|        17564|         17367|        17367|         17367|          17367|            17564|               17367|\n",
            "|   mean|9997.536267365065| 45.47102026873149|1738.8473012981099|2017.0|    NULL|15.520951947164654|         NULL|          NULL|         NULL|          NULL|           NULL|89419.95206103394|   764397.8839753555|\n",
            "| stddev|5777.595210494077|30.968005751891837|1012.4591560656893|   0.0|    NULL| 8.672488291255123|         NULL|          NULL|         NULL|          NULL|           NULL|62201.04317812743|5.9567091024440184E7|\n",
            "|    min|                1|                 0|                 1|  2017|   abril|                 1|     Approved|Giant Bicycles|     Mountain|          high|          large|              850|                 721|\n",
            "|    25%|             4992|                18|               854|  2017|    NULL|                 8|         NULL|          NULL|         NULL|          NULL|           NULL|            29062|               20536|\n",
            "|    50%|            10023|                45|              1736|  2017|    NULL|                15|         NULL|          NULL|         NULL|          NULL|           NULL|            91252|               40013|\n",
            "|    75%|            14993|                73|              2615|  2017|    NULL|                23|         NULL|          NULL|         NULL|          NULL|           NULL|           128985|               67748|\n",
            "|    max|            19999|               100|              5034|  2017|setembro|                31|    Cancelled|      WeareA2B|      Touring|        medium|          small|           209147|          6674000244|\n",
            "+-------+-----------------+------------------+------------------+------+--------+------------------+-------------+--------------+-------------+--------------+---------------+-----------------+--------------------+\n",
            "\n"
          ]
        }
      ]
    },
    {
      "cell_type": "code",
      "source": [
        "df_end_cliente.summary().show()"
      ],
      "metadata": {
        "colab": {
          "base_uri": "https://localhost:8080/"
        },
        "id": "DCzHmJnwljnt",
        "outputId": "3da025cc-0f9e-41da-dc99-dc5379c94164"
      },
      "execution_count": null,
      "outputs": [
        {
          "output_type": "stream",
          "name": "stdout",
          "text": [
            "+-------+------------------+--------------------+--------+---------+-----------------+\n",
            "|summary|       customer_id|            endereco|  estado|     pais|    codigo_postal|\n",
            "+-------+------------------+--------------------+--------+---------+-----------------+\n",
            "|  count|              3999|                3999|    3999|     3999|             3999|\n",
            "|   mean|2003.9879969992498|                NULL|    NULL|     NULL|2985.755938984746|\n",
            "| stddev|1154.5769124572676|                NULL|    NULL|     NULL|844.8783644255834|\n",
            "|    min|                 1|          0 3rd Road|     NSW|Australia|             2000|\n",
            "|    25%|              1004|                NULL|    NULL|     NULL|             2200|\n",
            "|    50%|              2004|                NULL|    NULL|     NULL|             2768|\n",
            "|    75%|              3004|                NULL|    NULL|     NULL|             3750|\n",
            "|    max|              4003|9993 Mccormick St...|Victoria|Australia|             4883|\n",
            "+-------+------------------+--------------------+--------+---------+-----------------+\n",
            "\n"
          ]
        }
      ]
    },
    {
      "cell_type": "code",
      "source": [
        "df_demogra_cliente.summary().show()"
      ],
      "metadata": {
        "colab": {
          "base_uri": "https://localhost:8080/"
        },
        "id": "tidrqfrGlp8t",
        "outputId": "177a0c5b-161f-4e74-ba14-c899f66895a1"
      },
      "execution_count": null,
      "outputs": [
        {
          "output_type": "stream",
          "name": "stdout",
          "text": [
            "+-------+------------------+------+---------+------+-------------------------+------------------+--------+-----------------+-------------------+---------------+-----------------+------------+--------+\n",
            "|summary|       customer_id|  nome|sobrenome|  sexo|compra_bike_ultimo_3_anos|               Ano|     Mês|              Dia|              cargo|categoria_cargo|         segmento|possui_carro|falecido|\n",
            "+-------+------------------+------+---------+------+-------------------------+------------------+--------+-----------------+-------------------+---------------+-----------------+------------+--------+\n",
            "|  count|              4000|  4000|     3875|  4000|                     4000|              3913|    3913|             3913|               3494|           4000|             4000|        4000|    4000|\n",
            "|   mean|            2000.5|  NULL|     NULL|  NULL|                    48.89|1977.0306670074112|    NULL|15.76463071811909|               NULL|           NULL|             NULL|        NULL|    NULL|\n",
            "| stddev|1154.8448669265786|  NULL|     NULL|  NULL|       28.715005448101042| 12.79638720701747|    NULL| 8.77936534446437|               NULL|           NULL|             NULL|        NULL|    NULL|\n",
            "|    min|                 1|Aarika|   Aarons|Female|                        0|              1843|   abril|                1|Account Coordinator|    Argiculture|Affluent Customer|          No|       N|\n",
            "|    25%|              1000|  NULL|     NULL|  NULL|                       24|              1968|    NULL|                8|               NULL|           NULL|             NULL|        NULL|    NULL|\n",
            "|    50%|              2000|  NULL|     NULL|  NULL|                       48|              1977|    NULL|               16|               NULL|           NULL|             NULL|        NULL|    NULL|\n",
            "|    75%|              3000|  NULL|     NULL|  NULL|                       73|              1987|    NULL|               23|               NULL|           NULL|             NULL|        NULL|    NULL|\n",
            "|    max|              4000|Zulema| cornhill|  Male|                       99|              2002|setembro|               31|   Web Developer IV|            n/a|    Mass Customer|         Yes|       Y|\n",
            "+-------+------------------+------+---------+------+-------------------------+------------------+--------+-----------------+-------------------+---------------+-----------------+------------+--------+\n",
            "\n"
          ]
        }
      ]
    },
    {
      "cell_type": "code",
      "source": [
        "# Removendo as colunas que não serão utilizadas"
      ],
      "metadata": {
        "id": "Zirz8s0nl12F"
      },
      "execution_count": null,
      "outputs": []
    },
    {
      "cell_type": "code",
      "source": [
        "dft = df_transacoes.drop('Dia')\n",
        "dfe = df_end_cliente.drop('codigo_postal')\n",
        "dfd = df_demogra_cliente.drop('compra_bike_ultimo_3_anos')"
      ],
      "metadata": {
        "id": "-JyUtf-2eiW5"
      },
      "execution_count": null,
      "outputs": []
    },
    {
      "cell_type": "code",
      "source": [
        "dft.show()"
      ],
      "metadata": {
        "colab": {
          "base_uri": "https://localhost:8080/"
        },
        "id": "5CqK8ISKfLmY",
        "outputId": "49a47818-e32a-4a89-a4f0-006a43e47810"
      },
      "execution_count": null,
      "outputs": [
        {
          "output_type": "stream",
          "name": "stdout",
          "text": [
            "+--------------+----------+-----------+----+---------+-------------+-------------+--------------+-------------+--------------+---------------+-----------+------------+\n",
            "|transaction_id|product_id|customer_id| Ano|      Mês|pedido_online|status_pedido|         marca|linha_produto|classe_produto|tamanho_produto|preco_lista|custo_padrao|\n",
            "+--------------+----------+-----------+----+---------+-------------+-------------+--------------+-------------+--------------+---------------+-----------+------------+\n",
            "|             1|         2|       2950|2017|fevereiro|        false|     Approved|         Solex|     Standard|        medium|         medium|       7149|        5362|\n",
            "|             2|         3|       3120|2017|     maio|         true|     Approved| Trek Bicycles|     Standard|        medium|          large|     209147|       38892|\n",
            "|             3|        37|        402|2017|  outubro|        false|     Approved|    OHM Cycles|     Standard|           low|         medium|     179343|       24882|\n",
            "|             4|        88|       3135|2017|   agosto|        false|     Approved|Norco Bicycles|     Standard|        medium|         medium|     119846|       38110|\n",
            "|             5|        78|        787|2017|  outubro|         true|     Approved|Giant Bicycles|     Standard|        medium|          large|      17653|       70948|\n",
            "|             6|        25|       2339|2017|    março|         true|     Approved|Giant Bicycles|         Road|        medium|         medium|     153899|       82965|\n",
            "|             7|        22|       1542|2017|    abril|         true|     Approved|      WeareA2B|     Standard|        medium|         medium|       6034|        4526|\n",
            "|             8|        15|       2459|2017|    julho|        false|     Approved|      WeareA2B|     Standard|        medium|         medium|     129284|        1344|\n",
            "|             9|        67|       1305|2017|   agosto|        false|     Approved|         Solex|     Standard|        medium|          large|     107123|       38074|\n",
            "|            10|        12|       3262|2017|   agosto|         true|     Approved|      WeareA2B|     Standard|        medium|         medium|     123115|       16160|\n",
            "|            11|         5|       1986|2017|  janeiro|        false|     Approved| Trek Bicycles|     Mountain|           low|         medium|      57464|       45971|\n",
            "|            12|        61|       2783|2017|  janeiro|         true|     Approved|    OHM Cycles|     Standard|           low|         medium|       7116|        5693|\n",
            "|            13|        35|       1243|2017|fevereiro|         true|     Approved| Trek Bicycles|     Standard|           low|         medium|     105751|       15440|\n",
            "|            15|        12|        247|2017|    junho|        false|     Approved|Giant Bicycles|     Standard|        medium|          large|      17653|       70948|\n",
            "|            16|         3|       2961|2017|  outubro|        false|     Approved| Trek Bicycles|     Standard|        medium|          large|     209147|       38892|\n",
            "|            17|        79|       2426|2017|    abril|        false|     Approved|Norco Bicycles|     Standard|        medium|         medium|     155558|       81801|\n",
            "|            19|        54|       2268|2017|    abril|         true|     Approved|      WeareA2B|     Standard|        medium|         medium|     129284|        1344|\n",
            "|            20|        25|       3002|2017|  janeiro|         true|     Approved|Giant Bicycles|         Road|        medium|         medium|     153899|       82965|\n",
            "|            21|        27|       1582|2017|  outubro|        false|     Approved| Trek Bicycles|     Standard|        medium|         medium|      49953|       38872|\n",
            "|            22|        37|        595|2017|    junho|         true|     Approved|    OHM Cycles|     Standard|           low|         medium|     179343|       24882|\n",
            "+--------------+----------+-----------+----+---------+-------------+-------------+--------------+-------------+--------------+---------------+-----------+------------+\n",
            "only showing top 20 rows\n",
            "\n"
          ]
        }
      ]
    },
    {
      "cell_type": "code",
      "source": [
        "dfe.show()"
      ],
      "metadata": {
        "colab": {
          "base_uri": "https://localhost:8080/"
        },
        "id": "PMPRJULJnooL",
        "outputId": "dd224cff-ccb1-4422-9e6b-e25e19e43e40"
      },
      "execution_count": null,
      "outputs": [
        {
          "output_type": "stream",
          "name": "stdout",
          "text": [
            "+-----------+--------------------+---------------+---------+\n",
            "|customer_id|            endereco|         estado|     pais|\n",
            "+-----------+--------------------+---------------+---------+\n",
            "|          1|  060 Morning Avenue|New South Wales|Australia|\n",
            "|          2| 6 Meadow Vale Court|New South Wales|Australia|\n",
            "|          4|  0 Holy Cross Court|            QLD|Australia|\n",
            "|          5| 17979 Del Mar Point|New South Wales|Australia|\n",
            "|          6|    9 Oakridge Court|            VIC|Australia|\n",
            "|          7|    4 Delaware Trail|New South Wales|Australia|\n",
            "|          8| 49 Londonderry Lane|New South Wales|Australia|\n",
            "|          9|     97736 7th Trail|New South Wales|Australia|\n",
            "|         11|93405 Ludington Park|            VIC|Australia|\n",
            "|         12|44339 Golden Leaf...|            QLD|Australia|\n",
            "|         13| 2 Sutherland Street|            VIC|Australia|\n",
            "|         14|     9 Mcbride Trail|New South Wales|Australia|\n",
            "|         15|9861 New Castle A...|New South Wales|Australia|\n",
            "|         16|    52 Moland Street|            VIC|Australia|\n",
            "|         17|82391 Kensington ...|            VIC|Australia|\n",
            "|         18|       092 2nd Alley|New South Wales|Australia|\n",
            "|         19|   59 Spaight Circle|New South Wales|Australia|\n",
            "|         20|032 Bartelt Crossing|New South Wales|Australia|\n",
            "|         21|     18 Jenna Center|New South Wales|Australia|\n",
            "|         24|    3 Cordelia Plaza|New South Wales|Australia|\n",
            "+-----------+--------------------+---------------+---------+\n",
            "only showing top 20 rows\n",
            "\n"
          ]
        }
      ]
    },
    {
      "cell_type": "code",
      "source": [
        "dfd.show()"
      ],
      "metadata": {
        "colab": {
          "base_uri": "https://localhost:8080/"
        },
        "id": "ufsSRToXnrLu",
        "outputId": "d545ee6d-dc4c-412c-979b-8acaa48f84cd"
      },
      "execution_count": null,
      "outputs": [
        {
          "output_type": "stream",
          "name": "stdout",
          "text": [
            "+-----------+--------------+---------+------+----+---------+---+--------------------+------------------+-----------------+------------+--------+\n",
            "|customer_id|          nome|sobrenome|  sexo| Ano|      Mês|Dia|               cargo|   categoria_cargo|         segmento|possui_carro|falecido|\n",
            "+-----------+--------------+---------+------+----+---------+---+--------------------+------------------+-----------------+------------+--------+\n",
            "|          1|       Laraine|Medendorp|Female|1953|  outubro| 12| Executive Secretary|            Health|    Mass Customer|         Yes|       N|\n",
            "|          2|           Eli|  Bockman|  Male|1980| dezembro| 16|Administrative Of...|Financial Services|    Mass Customer|         Yes|       N|\n",
            "|          3|         Arlin|   Dearle|  Male|1954|  janeiro| 20|  Recruiting Manager|          Property|    Mass Customer|         Yes|       N|\n",
            "|          4|        Talbot|     NULL|  Male|1961|  outubro|  3|                NULL|                IT|    Mass Customer|          No|       N|\n",
            "|          5|Sheila-kathryn|   Calton|Female|1977|     maio| 13|       Senior Editor|               n/a|Affluent Customer|         Yes|       N|\n",
            "|          6|          Curr|Duckhouse|  Male|1966| setembro| 16|                NULL|            Retail|   High Net Worth|         Yes|       N|\n",
            "|          7|          Fina|   Merali|Female|1976|fevereiro| 23|                NULL|Financial Services|Affluent Customer|         Yes|       N|\n",
            "|          8|           Rod|    Inder|  Male|1962|    março| 30|     Media Manager I|               n/a|    Mass Customer|          No|       N|\n",
            "|          9|          Mala|     Lind|Female|1973|    março| 10|Business Systems ...|       Argiculture|Affluent Customer|         Yes|       N|\n",
            "|         10|      Fiorenze|  Birdall|Female|1988|  outubro| 11|Senior Quality En...|Financial Services|    Mass Customer|         Yes|       N|\n",
            "|         11|         Uriah|   Bisatt|  Male|1954|    abril| 30|                NULL|          Property|    Mass Customer|          No|       N|\n",
            "|         12|       Sawyere| Flattman|  Male|1994|    julho| 21|Nuclear Power Eng...|     Manufacturing|    Mass Customer|          No|       N|\n",
            "|         13|      Gabriele| Norcross|  Male|1955|fevereiro| 15|         Developer I|Financial Services|   High Net Worth|         Yes|       N|\n",
            "|         14|      Rayshell| Kitteman|Female|1983|    março| 25|   Account Executive|Financial Services|Affluent Customer|          No|       N|\n",
            "|         15|        Erroll|   Radage|  Male|2000|    julho| 13|    Junior Executive|     Manufacturing|    Mass Customer|          No|       N|\n",
            "|         16|        Harlin|     Parr|  Male|1977|fevereiro| 27|    Media Manager IV|               n/a|    Mass Customer|         Yes|       N|\n",
            "|         17|         Heath|  Faraday|  Male|1962|    março| 19|     Sales Associate|               n/a|Affluent Customer|         Yes|       N|\n",
            "|         18|        Marjie|  Neasham|Female|1967|    julho|  6|           Professor|               n/a|Affluent Customer|          No|       N|\n",
            "|         19|        Sorcha|   Keyson|Female|2001|    abril| 15| Geological Engineer|     Manufacturing|   High Net Worth|          No|       N|\n",
            "|         20|        Basile|    Firth|  Male|1980|   agosto| 13|     Project Manager|     Manufacturing|    Mass Customer|          No|       N|\n",
            "+-----------+--------------+---------+------+----+---------+---+--------------------+------------------+-----------------+------------+--------+\n",
            "only showing top 20 rows\n",
            "\n"
          ]
        }
      ]
    },
    {
      "cell_type": "code",
      "source": [
        "dft.count()"
      ],
      "metadata": {
        "colab": {
          "base_uri": "https://localhost:8080/"
        },
        "id": "i9g0_X42fV5o",
        "outputId": "ab94ced5-9300-4d49-ad0c-136dfec524e4"
      },
      "execution_count": null,
      "outputs": [
        {
          "output_type": "execute_result",
          "data": {
            "text/plain": [
              "17564"
            ]
          },
          "metadata": {},
          "execution_count": 64
        }
      ]
    },
    {
      "cell_type": "code",
      "source": [
        "dfe.count()"
      ],
      "metadata": {
        "colab": {
          "base_uri": "https://localhost:8080/"
        },
        "id": "cavB_xh7nyBD",
        "outputId": "a73a56ae-74b0-4a5b-bf2f-139151c1fedb"
      },
      "execution_count": null,
      "outputs": [
        {
          "output_type": "execute_result",
          "data": {
            "text/plain": [
              "3999"
            ]
          },
          "metadata": {},
          "execution_count": 65
        }
      ]
    },
    {
      "cell_type": "code",
      "source": [
        "dfd.count()"
      ],
      "metadata": {
        "colab": {
          "base_uri": "https://localhost:8080/"
        },
        "id": "cD4T2AC8n0Oj",
        "outputId": "2fb4eea4-1ac3-4f25-f543-cf7d57295a99"
      },
      "execution_count": null,
      "outputs": [
        {
          "output_type": "execute_result",
          "data": {
            "text/plain": [
              "4000"
            ]
          },
          "metadata": {},
          "execution_count": 66
        }
      ]
    },
    {
      "cell_type": "code",
      "source": [
        "dft2 = dft.dropna()"
      ],
      "metadata": {
        "id": "erhzFeuxfc6Y"
      },
      "execution_count": null,
      "outputs": []
    },
    {
      "cell_type": "code",
      "source": [
        "dfe2 = dfe.dropna()"
      ],
      "metadata": {
        "id": "xa5C9bU3n4ZF"
      },
      "execution_count": null,
      "outputs": []
    },
    {
      "cell_type": "code",
      "source": [
        "dfd2 = dfd.dropna()"
      ],
      "metadata": {
        "id": "WSvFNTEUn-9M"
      },
      "execution_count": null,
      "outputs": []
    },
    {
      "cell_type": "code",
      "source": [
        "dft2.count()"
      ],
      "metadata": {
        "colab": {
          "base_uri": "https://localhost:8080/"
        },
        "id": "_MyPoSLFfhv_",
        "outputId": "fa0ca824-5ee4-4b24-eb8f-2108b421b303"
      },
      "execution_count": null,
      "outputs": [
        {
          "output_type": "execute_result",
          "data": {
            "text/plain": [
              "17060"
            ]
          },
          "metadata": {},
          "execution_count": 71
        }
      ]
    },
    {
      "cell_type": "code",
      "source": [
        "dfe2.count()"
      ],
      "metadata": {
        "colab": {
          "base_uri": "https://localhost:8080/"
        },
        "id": "lefOJX8coEfr",
        "outputId": "29709804-407f-4b2d-8082-8feb55b96abe"
      },
      "execution_count": null,
      "outputs": [
        {
          "output_type": "execute_result",
          "data": {
            "text/plain": [
              "3999"
            ]
          },
          "metadata": {},
          "execution_count": 72
        }
      ]
    },
    {
      "cell_type": "code",
      "source": [
        "dfd2.count()"
      ],
      "metadata": {
        "colab": {
          "base_uri": "https://localhost:8080/"
        },
        "id": "unYXAEBOoEnc",
        "outputId": "5ea5c333-4a2f-4346-c5ee-c970e0d42052"
      },
      "execution_count": null,
      "outputs": [
        {
          "output_type": "execute_result",
          "data": {
            "text/plain": [
              "3311"
            ]
          },
          "metadata": {},
          "execution_count": 73
        }
      ]
    },
    {
      "cell_type": "code",
      "source": [
        "dft2.show()"
      ],
      "metadata": {
        "colab": {
          "base_uri": "https://localhost:8080/"
        },
        "id": "VFzb9epZfm3o",
        "outputId": "bea620e4-ebc0-4f36-e792-715520ed974a"
      },
      "execution_count": null,
      "outputs": [
        {
          "output_type": "stream",
          "name": "stdout",
          "text": [
            "+--------------+----------+-----------+----+---------+-------------+-------------+--------------+-------------+--------------+---------------+-----------+------------+\n",
            "|transaction_id|product_id|customer_id| Ano|      Mês|pedido_online|status_pedido|         marca|linha_produto|classe_produto|tamanho_produto|preco_lista|custo_padrao|\n",
            "+--------------+----------+-----------+----+---------+-------------+-------------+--------------+-------------+--------------+---------------+-----------+------------+\n",
            "|             1|         2|       2950|2017|fevereiro|        false|     Approved|         Solex|     Standard|        medium|         medium|       7149|        5362|\n",
            "|             2|         3|       3120|2017|     maio|         true|     Approved| Trek Bicycles|     Standard|        medium|          large|     209147|       38892|\n",
            "|             3|        37|        402|2017|  outubro|        false|     Approved|    OHM Cycles|     Standard|           low|         medium|     179343|       24882|\n",
            "|             4|        88|       3135|2017|   agosto|        false|     Approved|Norco Bicycles|     Standard|        medium|         medium|     119846|       38110|\n",
            "|             5|        78|        787|2017|  outubro|         true|     Approved|Giant Bicycles|     Standard|        medium|          large|      17653|       70948|\n",
            "|             6|        25|       2339|2017|    março|         true|     Approved|Giant Bicycles|         Road|        medium|         medium|     153899|       82965|\n",
            "|             7|        22|       1542|2017|    abril|         true|     Approved|      WeareA2B|     Standard|        medium|         medium|       6034|        4526|\n",
            "|             8|        15|       2459|2017|    julho|        false|     Approved|      WeareA2B|     Standard|        medium|         medium|     129284|        1344|\n",
            "|             9|        67|       1305|2017|   agosto|        false|     Approved|         Solex|     Standard|        medium|          large|     107123|       38074|\n",
            "|            10|        12|       3262|2017|   agosto|         true|     Approved|      WeareA2B|     Standard|        medium|         medium|     123115|       16160|\n",
            "|            11|         5|       1986|2017|  janeiro|        false|     Approved| Trek Bicycles|     Mountain|           low|         medium|      57464|       45971|\n",
            "|            12|        61|       2783|2017|  janeiro|         true|     Approved|    OHM Cycles|     Standard|           low|         medium|       7116|        5693|\n",
            "|            13|        35|       1243|2017|fevereiro|         true|     Approved| Trek Bicycles|     Standard|           low|         medium|     105751|       15440|\n",
            "|            15|        12|        247|2017|    junho|        false|     Approved|Giant Bicycles|     Standard|        medium|          large|      17653|       70948|\n",
            "|            16|         3|       2961|2017|  outubro|        false|     Approved| Trek Bicycles|     Standard|        medium|          large|     209147|       38892|\n",
            "|            17|        79|       2426|2017|    abril|        false|     Approved|Norco Bicycles|     Standard|        medium|         medium|     155558|       81801|\n",
            "|            19|        54|       2268|2017|    abril|         true|     Approved|      WeareA2B|     Standard|        medium|         medium|     129284|        1344|\n",
            "|            20|        25|       3002|2017|  janeiro|         true|     Approved|Giant Bicycles|         Road|        medium|         medium|     153899|       82965|\n",
            "|            21|        27|       1582|2017|  outubro|        false|     Approved| Trek Bicycles|     Standard|        medium|         medium|      49953|       38872|\n",
            "|            22|        37|        595|2017|    junho|         true|     Approved|    OHM Cycles|     Standard|           low|         medium|     179343|       24882|\n",
            "+--------------+----------+-----------+----+---------+-------------+-------------+--------------+-------------+--------------+---------------+-----------+------------+\n",
            "only showing top 20 rows\n",
            "\n"
          ]
        }
      ]
    },
    {
      "cell_type": "code",
      "source": [
        "dfe2.show()"
      ],
      "metadata": {
        "colab": {
          "base_uri": "https://localhost:8080/"
        },
        "id": "XMO4eRxgoRIj",
        "outputId": "b231b2d5-48b6-44d1-fcd1-adc516be6632"
      },
      "execution_count": null,
      "outputs": [
        {
          "output_type": "stream",
          "name": "stdout",
          "text": [
            "+-----------+--------------------+---------------+---------+\n",
            "|customer_id|            endereco|         estado|     pais|\n",
            "+-----------+--------------------+---------------+---------+\n",
            "|          1|  060 Morning Avenue|New South Wales|Australia|\n",
            "|          2| 6 Meadow Vale Court|New South Wales|Australia|\n",
            "|          4|  0 Holy Cross Court|            QLD|Australia|\n",
            "|          5| 17979 Del Mar Point|New South Wales|Australia|\n",
            "|          6|    9 Oakridge Court|            VIC|Australia|\n",
            "|          7|    4 Delaware Trail|New South Wales|Australia|\n",
            "|          8| 49 Londonderry Lane|New South Wales|Australia|\n",
            "|          9|     97736 7th Trail|New South Wales|Australia|\n",
            "|         11|93405 Ludington Park|            VIC|Australia|\n",
            "|         12|44339 Golden Leaf...|            QLD|Australia|\n",
            "|         13| 2 Sutherland Street|            VIC|Australia|\n",
            "|         14|     9 Mcbride Trail|New South Wales|Australia|\n",
            "|         15|9861 New Castle A...|New South Wales|Australia|\n",
            "|         16|    52 Moland Street|            VIC|Australia|\n",
            "|         17|82391 Kensington ...|            VIC|Australia|\n",
            "|         18|       092 2nd Alley|New South Wales|Australia|\n",
            "|         19|   59 Spaight Circle|New South Wales|Australia|\n",
            "|         20|032 Bartelt Crossing|New South Wales|Australia|\n",
            "|         21|     18 Jenna Center|New South Wales|Australia|\n",
            "|         24|    3 Cordelia Plaza|New South Wales|Australia|\n",
            "+-----------+--------------------+---------------+---------+\n",
            "only showing top 20 rows\n",
            "\n"
          ]
        }
      ]
    },
    {
      "cell_type": "code",
      "source": [
        "dfd2.show()"
      ],
      "metadata": {
        "colab": {
          "base_uri": "https://localhost:8080/"
        },
        "id": "6WqbHPSUoTRL",
        "outputId": "d55a595f-87dc-4e3c-a91a-f6fa17105e6f"
      },
      "execution_count": null,
      "outputs": [
        {
          "output_type": "stream",
          "name": "stdout",
          "text": [
            "+-----------+--------------+---------+------+----+---------+---+--------------------+------------------+-----------------+------------+--------+\n",
            "|customer_id|          nome|sobrenome|  sexo| Ano|      Mês|Dia|               cargo|   categoria_cargo|         segmento|possui_carro|falecido|\n",
            "+-----------+--------------+---------+------+----+---------+---+--------------------+------------------+-----------------+------------+--------+\n",
            "|          1|       Laraine|Medendorp|Female|1953|  outubro| 12| Executive Secretary|            Health|    Mass Customer|         Yes|       N|\n",
            "|          2|           Eli|  Bockman|  Male|1980| dezembro| 16|Administrative Of...|Financial Services|    Mass Customer|         Yes|       N|\n",
            "|          3|         Arlin|   Dearle|  Male|1954|  janeiro| 20|  Recruiting Manager|          Property|    Mass Customer|         Yes|       N|\n",
            "|          5|Sheila-kathryn|   Calton|Female|1977|     maio| 13|       Senior Editor|               n/a|Affluent Customer|         Yes|       N|\n",
            "|          8|           Rod|    Inder|  Male|1962|    março| 30|     Media Manager I|               n/a|    Mass Customer|          No|       N|\n",
            "|          9|          Mala|     Lind|Female|1973|    março| 10|Business Systems ...|       Argiculture|Affluent Customer|         Yes|       N|\n",
            "|         10|      Fiorenze|  Birdall|Female|1988|  outubro| 11|Senior Quality En...|Financial Services|    Mass Customer|         Yes|       N|\n",
            "|         12|       Sawyere| Flattman|  Male|1994|    julho| 21|Nuclear Power Eng...|     Manufacturing|    Mass Customer|          No|       N|\n",
            "|         13|      Gabriele| Norcross|  Male|1955|fevereiro| 15|         Developer I|Financial Services|   High Net Worth|         Yes|       N|\n",
            "|         14|      Rayshell| Kitteman|Female|1983|    março| 25|   Account Executive|Financial Services|Affluent Customer|          No|       N|\n",
            "|         15|        Erroll|   Radage|  Male|2000|    julho| 13|    Junior Executive|     Manufacturing|    Mass Customer|          No|       N|\n",
            "|         16|        Harlin|     Parr|  Male|1977|fevereiro| 27|    Media Manager IV|               n/a|    Mass Customer|         Yes|       N|\n",
            "|         17|         Heath|  Faraday|  Male|1962|    março| 19|     Sales Associate|               n/a|Affluent Customer|         Yes|       N|\n",
            "|         18|        Marjie|  Neasham|Female|1967|    julho|  6|           Professor|               n/a|Affluent Customer|          No|       N|\n",
            "|         19|        Sorcha|   Keyson|Female|2001|    abril| 15| Geological Engineer|     Manufacturing|   High Net Worth|          No|       N|\n",
            "|         20|        Basile|    Firth|  Male|1980|   agosto| 13|     Project Manager|     Manufacturing|    Mass Customer|          No|       N|\n",
            "|         21|          Mile| Cammocke|  Male|1980| setembro| 20| Safety Technician I|     Manufacturing|Affluent Customer|         Yes|       N|\n",
            "|         24|           Kim|   Skpsey|Female|1977| dezembro|  3|Research Assistant I|       Argiculture|    Mass Customer|         Yes|       N|\n",
            "|         25|         Geoff|    Assaf|  Male|1976| dezembro|  2|Accounting Assist...|Financial Services|    Mass Customer|         Yes|       N|\n",
            "|         26|         Trixi| Ginnelly|Female|1978|    junho| 10|              Editor|Financial Services|    Mass Customer|         Yes|       N|\n",
            "+-----------+--------------+---------+------+----+---------+---+--------------------+------------------+-----------------+------------+--------+\n",
            "only showing top 20 rows\n",
            "\n"
          ]
        }
      ]
    },
    {
      "cell_type": "code",
      "source": [
        "dft2.printSchema()"
      ],
      "metadata": {
        "colab": {
          "base_uri": "https://localhost:8080/"
        },
        "id": "3URan_mPfvXQ",
        "outputId": "bae48753-e641-4aec-9af2-7d416c635a23"
      },
      "execution_count": null,
      "outputs": [
        {
          "output_type": "stream",
          "name": "stdout",
          "text": [
            "root\n",
            " |-- transaction_id: integer (nullable = true)\n",
            " |-- product_id: integer (nullable = true)\n",
            " |-- customer_id: integer (nullable = true)\n",
            " |-- Ano: integer (nullable = true)\n",
            " |-- Mês: string (nullable = true)\n",
            " |-- pedido_online: boolean (nullable = true)\n",
            " |-- status_pedido: string (nullable = true)\n",
            " |-- marca: string (nullable = true)\n",
            " |-- linha_produto: string (nullable = true)\n",
            " |-- classe_produto: string (nullable = true)\n",
            " |-- tamanho_produto: string (nullable = true)\n",
            " |-- preco_lista: integer (nullable = true)\n",
            " |-- custo_padrao: long (nullable = true)\n",
            "\n"
          ]
        }
      ]
    },
    {
      "cell_type": "code",
      "source": [
        "dfe2.printSchema()"
      ],
      "metadata": {
        "colab": {
          "base_uri": "https://localhost:8080/"
        },
        "id": "dRV_VXFqodoi",
        "outputId": "5dfa3b78-f8b1-40d9-fe1a-54b4e94549dc"
      },
      "execution_count": null,
      "outputs": [
        {
          "output_type": "stream",
          "name": "stdout",
          "text": [
            "root\n",
            " |-- customer_id: integer (nullable = true)\n",
            " |-- endereco: string (nullable = true)\n",
            " |-- estado: string (nullable = true)\n",
            " |-- pais: string (nullable = true)\n",
            "\n"
          ]
        }
      ]
    },
    {
      "cell_type": "code",
      "source": [
        "dfd2.printSchema()"
      ],
      "metadata": {
        "colab": {
          "base_uri": "https://localhost:8080/"
        },
        "id": "9CzJq5m1ogB7",
        "outputId": "309a7c36-2a09-42a2-c4ba-5418feaca929"
      },
      "execution_count": null,
      "outputs": [
        {
          "output_type": "stream",
          "name": "stdout",
          "text": [
            "root\n",
            " |-- customer_id: integer (nullable = true)\n",
            " |-- nome: string (nullable = true)\n",
            " |-- sobrenome: string (nullable = true)\n",
            " |-- sexo: string (nullable = true)\n",
            " |-- Ano: integer (nullable = true)\n",
            " |-- Mês: string (nullable = true)\n",
            " |-- Dia: integer (nullable = true)\n",
            " |-- cargo: string (nullable = true)\n",
            " |-- categoria_cargo: string (nullable = true)\n",
            " |-- segmento: string (nullable = true)\n",
            " |-- possui_carro: string (nullable = true)\n",
            " |-- falecido: string (nullable = true)\n",
            "\n"
          ]
        }
      ]
    },
    {
      "cell_type": "code",
      "source": [
        "shape = dft2.count(), len(dft2.columns)\n",
        "shape"
      ],
      "metadata": {
        "colab": {
          "base_uri": "https://localhost:8080/"
        },
        "id": "u1o_dFyZf8On",
        "outputId": "179ebe4a-6534-4b48-dfc9-545182f7c5e1"
      },
      "execution_count": null,
      "outputs": [
        {
          "output_type": "execute_result",
          "data": {
            "text/plain": [
              "(17060, 13)"
            ]
          },
          "metadata": {},
          "execution_count": 30
        }
      ]
    },
    {
      "cell_type": "code",
      "source": [
        "dft2.select('product_id', 'Mês', 'classe_produto', 'marca', 'preco_lista').show()"
      ],
      "metadata": {
        "colab": {
          "base_uri": "https://localhost:8080/"
        },
        "id": "NuUJTmFpgCHi",
        "outputId": "71a06584-a6b5-4300-b1aa-207af7ce58f9"
      },
      "execution_count": null,
      "outputs": [
        {
          "output_type": "stream",
          "name": "stdout",
          "text": [
            "+----------+---------+--------------+--------------+-----------+\n",
            "|product_id|      Mês|classe_produto|         marca|preco_lista|\n",
            "+----------+---------+--------------+--------------+-----------+\n",
            "|         2|fevereiro|        medium|         Solex|       7149|\n",
            "|         3|     maio|        medium| Trek Bicycles|     209147|\n",
            "|        37|  outubro|           low|    OHM Cycles|     179343|\n",
            "|        88|   agosto|        medium|Norco Bicycles|     119846|\n",
            "|        78|  outubro|        medium|Giant Bicycles|      17653|\n",
            "|        25|    março|        medium|Giant Bicycles|     153899|\n",
            "|        22|    abril|        medium|      WeareA2B|       6034|\n",
            "|        15|    julho|        medium|      WeareA2B|     129284|\n",
            "|        67|   agosto|        medium|         Solex|     107123|\n",
            "|        12|   agosto|        medium|      WeareA2B|     123115|\n",
            "|         5|  janeiro|           low| Trek Bicycles|      57464|\n",
            "|        61|  janeiro|           low|    OHM Cycles|       7116|\n",
            "|        35|fevereiro|           low| Trek Bicycles|     105751|\n",
            "|        12|    junho|        medium|Giant Bicycles|      17653|\n",
            "|         3|  outubro|        medium| Trek Bicycles|     209147|\n",
            "|        79|    abril|        medium|Norco Bicycles|     155558|\n",
            "|        54|    abril|        medium|      WeareA2B|     129284|\n",
            "|        25|  janeiro|        medium|Giant Bicycles|     153899|\n",
            "|        27|  outubro|        medium| Trek Bicycles|      49953|\n",
            "|        37|    junho|           low|    OHM Cycles|     179343|\n",
            "+----------+---------+--------------+--------------+-----------+\n",
            "only showing top 20 rows\n",
            "\n"
          ]
        }
      ]
    },
    {
      "cell_type": "code",
      "source": [
        "# Fazendo Join nas tabelas"
      ],
      "metadata": {
        "id": "5Gmp3zZIwi3V"
      },
      "execution_count": null,
      "outputs": []
    },
    {
      "cell_type": "code",
      "source": [
        "df_full = dfd2.join(dft2, on='customer_id', how='inner')\n"
      ],
      "metadata": {
        "id": "iOnMkYcrvhs2"
      },
      "execution_count": null,
      "outputs": []
    },
    {
      "cell_type": "code",
      "source": [
        "df_full.printSchema()"
      ],
      "metadata": {
        "colab": {
          "base_uri": "https://localhost:8080/"
        },
        "id": "CuSfKKk-2TxW",
        "outputId": "b9514553-a1d1-4689-cd17-db73f5f77970"
      },
      "execution_count": null,
      "outputs": [
        {
          "output_type": "stream",
          "name": "stdout",
          "text": [
            "root\n",
            " |-- customer_id: integer (nullable = true)\n",
            " |-- nome: string (nullable = true)\n",
            " |-- sobrenome: string (nullable = true)\n",
            " |-- sexo: string (nullable = true)\n",
            " |-- Ano: integer (nullable = true)\n",
            " |-- Mês: string (nullable = true)\n",
            " |-- Dia: integer (nullable = true)\n",
            " |-- cargo: string (nullable = true)\n",
            " |-- categoria_cargo: string (nullable = true)\n",
            " |-- segmento: string (nullable = true)\n",
            " |-- possui_carro: string (nullable = true)\n",
            " |-- falecido: string (nullable = true)\n",
            " |-- transaction_id: integer (nullable = true)\n",
            " |-- product_id: integer (nullable = true)\n",
            " |-- Ano: integer (nullable = true)\n",
            " |-- Mês: string (nullable = true)\n",
            " |-- pedido_online: boolean (nullable = true)\n",
            " |-- status_pedido: string (nullable = true)\n",
            " |-- marca: string (nullable = true)\n",
            " |-- linha_produto: string (nullable = true)\n",
            " |-- classe_produto: string (nullable = true)\n",
            " |-- tamanho_produto: string (nullable = true)\n",
            " |-- preco_lista: integer (nullable = true)\n",
            " |-- custo_padrao: long (nullable = true)\n",
            "\n"
          ]
        }
      ]
    },
    {
      "cell_type": "code",
      "source": [
        "# 1. Visualizar a classe dos produtos comprados de todos os clientes que compraram bicicletas com o cargo de ‘Teacher’ e que possuem carro."
      ],
      "metadata": {
        "id": "II73QK9RwwCW"
      },
      "execution_count": null,
      "outputs": []
    },
    {
      "cell_type": "code",
      "source": [
        "df_full.filter((col(\"cargo\") == 'Teacher')  & (col(\"possui_carro\") == 'Yes')) .select('cargo','classe_produto','possui_carro').show()"
      ],
      "metadata": {
        "colab": {
          "base_uri": "https://localhost:8080/"
        },
        "id": "4PkOvzuigcS2",
        "outputId": "a850a3f8-6b75-4689-d5ae-1e9402708386"
      },
      "execution_count": null,
      "outputs": [
        {
          "output_type": "stream",
          "name": "stdout",
          "text": [
            "+-------+--------------+------------+\n",
            "|  cargo|classe_produto|possui_carro|\n",
            "+-------+--------------+------------+\n",
            "|Teacher|        medium|         Yes|\n",
            "|Teacher|          high|         Yes|\n",
            "|Teacher|        medium|         Yes|\n",
            "|Teacher|        medium|         Yes|\n",
            "|Teacher|        medium|         Yes|\n",
            "|Teacher|          high|         Yes|\n",
            "|Teacher|        medium|         Yes|\n",
            "|Teacher|        medium|         Yes|\n",
            "|Teacher|          high|         Yes|\n",
            "|Teacher|          high|         Yes|\n",
            "|Teacher|        medium|         Yes|\n",
            "|Teacher|        medium|         Yes|\n",
            "|Teacher|        medium|         Yes|\n",
            "|Teacher|        medium|         Yes|\n",
            "|Teacher|        medium|         Yes|\n",
            "|Teacher|           low|         Yes|\n",
            "|Teacher|        medium|         Yes|\n",
            "|Teacher|        medium|         Yes|\n",
            "|Teacher|        medium|         Yes|\n",
            "|Teacher|        medium|         Yes|\n",
            "+-------+--------------+------------+\n",
            "only showing top 20 rows\n",
            "\n"
          ]
        }
      ]
    },
    {
      "cell_type": "code",
      "source": [
        "# 2. Soma de valores gastos por sexo"
      ],
      "metadata": {
        "id": "rb8rKmRW44h2"
      },
      "execution_count": null,
      "outputs": []
    },
    {
      "cell_type": "code",
      "source": [
        "(\n",
        "    df_full\n",
        "    .groupby(\"sexo\")\n",
        "    .agg({'preco_lista': 'sum'})\n",
        "    .show()\n",
        ")"
      ],
      "metadata": {
        "colab": {
          "base_uri": "https://localhost:8080/"
        },
        "id": "WSc6szr636m2",
        "outputId": "a5713ef2-76e1-40a4-ef68-dfd3b2998059"
      },
      "execution_count": null,
      "outputs": [
        {
          "output_type": "stream",
          "name": "stdout",
          "text": [
            "+------+----------------+\n",
            "|  sexo|sum(preco_lista)|\n",
            "+------+----------------+\n",
            "|   Gay|          724517|\n",
            "|Female|       647866089|\n",
            "|  Male|       621819105|\n",
            "+------+----------------+\n",
            "\n"
          ]
        }
      ]
    },
    {
      "cell_type": "code",
      "source": [
        "# 3. Visualizar a soma da quantidade de compras feita pelo sexo masculino no dia 10."
      ],
      "metadata": {
        "id": "pj_S-wun_lGT"
      },
      "execution_count": null,
      "outputs": []
    },
    {
      "cell_type": "code",
      "source": [
        "df_full.filter((col(\"Dia\") == 10)  & (col(\"sexo\") == \"Male\")) .select('Dia','sexo').groupBy(\"sexo\").count().orderBy(col(\"count\")).show()"
      ],
      "metadata": {
        "colab": {
          "base_uri": "https://localhost:8080/"
        },
        "id": "zhy1szgT9mkt",
        "outputId": "abd66202-3774-4693-f4c2-99232366e166"
      },
      "execution_count": null,
      "outputs": [
        {
          "output_type": "stream",
          "name": "stdout",
          "text": [
            "+----+-----+\n",
            "|sexo|count|\n",
            "+----+-----+\n",
            "|Male|  221|\n",
            "+----+-----+\n",
            "\n"
          ]
        }
      ]
    },
    {
      "cell_type": "code",
      "source": [
        "# 4. Selecionar nomes e sobrenomes de 50 clientes que compraram bicicletas da classe ‘High’."
      ],
      "metadata": {
        "id": "YgirYTNUNysj"
      },
      "execution_count": null,
      "outputs": []
    },
    {
      "cell_type": "code",
      "source": [
        "df_full.filter((col(\"classe_produto\") == 'high')) .select('nome','sobrenome','classe_produto').show(50)"
      ],
      "metadata": {
        "colab": {
          "base_uri": "https://localhost:8080/"
        },
        "id": "IIl7D6bQMnas",
        "outputId": "508592e2-d3b8-4fcd-b543-a5feff3d20cb"
      },
      "execution_count": null,
      "outputs": [
        {
          "output_type": "stream",
          "name": "stdout",
          "text": [
            "+----------+-------------+--------------+\n",
            "|      nome|    sobrenome|classe_produto|\n",
            "+----------+-------------+--------------+\n",
            "|      Coop|         Skey|          high|\n",
            "|     Reine|       Semken|          high|\n",
            "|    Faythe|        Rance|          high|\n",
            "|     Janot|     McGougan|          high|\n",
            "|  Langsdon|    Tranfield|          high|\n",
            "| Annamarie|       Bouzan|          high|\n",
            "| Madelaine|    Siegertsz|          high|\n",
            "|  L;urette|       Annott|          high|\n",
            "|       Lyn|       Luquet|          high|\n",
            "|      Emma|        Mates|          high|\n",
            "|  Leontyne|      Jackett|          high|\n",
            "|     Ambur|      Symcoxe|          high|\n",
            "|   Kendall|        Humes|          high|\n",
            "|      Tony|      Shirley|          high|\n",
            "|    Andrei|    Mulchrone|          high|\n",
            "|   Pacorro| De Clairmont|          high|\n",
            "|      Harv|        Pavey|          high|\n",
            "|  Townsend|        Trobe|          high|\n",
            "|    Jazmin|      Neumann|          high|\n",
            "|    Tracey|       Verdun|          high|\n",
            "|   Bentley|  Fortesquieu|          high|\n",
            "|      Lana|        Druce|          high|\n",
            "|  Atalanta|    Starbucke|          high|\n",
            "|    Freddi|    Arrington|          high|\n",
            "|     Catie|       Advani|          high|\n",
            "|   Charity|       Robken|          high|\n",
            "|     Celka|     Goodrich|          high|\n",
            "|   Dalenna|      Pinnock|          high|\n",
            "|     Moina|       Thumim|          high|\n",
            "|    Marnia|     Claesens|          high|\n",
            "|      Dory|    Barnsdall|          high|\n",
            "|   Corissa|  Zienkiewicz|          high|\n",
            "|   Alister|De la Yglesia|          high|\n",
            "| Annamarie|       Bouzan|          high|\n",
            "|      Hedi|       Mowday|          high|\n",
            "|    Dorene|     Scrivner|          high|\n",
            "|      Kora|        Paoli|          high|\n",
            "| Kara-lynn|    Doddridge|          high|\n",
            "|      Dill|     Bampford|          high|\n",
            "|     Andie|       Shorto|          high|\n",
            "|     Grove|      Peltzer|          high|\n",
            "|  Florence|         Held|          high|\n",
            "| Mireielle|      Avrasin|          high|\n",
            "|Anna-diane|       Crumpe|          high|\n",
            "|     Brett|    Scrancher|          high|\n",
            "|    Mandie|        Jeger|          high|\n",
            "|   Queenie|        Flips|          high|\n",
            "|     Ethyl|       Runham|          high|\n",
            "|     Micki|     McNamara|          high|\n",
            "|       Ole|      Euplate|          high|\n",
            "+----------+-------------+--------------+\n",
            "only showing top 50 rows\n",
            "\n"
          ]
        }
      ]
    },
    {
      "cell_type": "code",
      "source": [
        "# 5. Selecionar nomes das 50 clientes do sexo ‘female’ que compraram bicicletas da classe ‘High’."
      ],
      "metadata": {
        "id": "JKysAVsMN2vg"
      },
      "execution_count": null,
      "outputs": []
    },
    {
      "cell_type": "code",
      "source": [
        "df_full.filter((col(\"sexo\") == 'Female')  & (col(\"classe_produto\") == \"high\")) .select('nome','sexo','classe_produto').orderBy(col(\"nome\")).show(50)"
      ],
      "metadata": {
        "colab": {
          "base_uri": "https://localhost:8080/"
        },
        "id": "WxzmyIjWN6Ve",
        "outputId": "d9a14b33-cb68-438e-d28f-40ce764c1e6c"
      },
      "execution_count": null,
      "outputs": [
        {
          "output_type": "stream",
          "name": "stdout",
          "text": [
            "+-----------+------+--------------+\n",
            "|       nome|  sexo|classe_produto|\n",
            "+-----------+------+--------------+\n",
            "|     Aarika|Female|          high|\n",
            "|    Abagail|Female|          high|\n",
            "|      Abbey|Female|          high|\n",
            "|       Abra|Female|          high|\n",
            "|       Abra|Female|          high|\n",
            "|       Abra|Female|          high|\n",
            "|       Addi|Female|          high|\n",
            "|       Addi|Female|          high|\n",
            "|       Addi|Female|          high|\n",
            "|       Adey|Female|          high|\n",
            "|      Adrea|Female|          high|\n",
            "|   Adrianne|Female|          high|\n",
            "|     Aeriel|Female|          high|\n",
            "|     Agathe|Female|          high|\n",
            "|       Aggi|Female|          high|\n",
            "|    Agnella|Female|          high|\n",
            "|       Aili|Female|          high|\n",
            "|     Ailsun|Female|          high|\n",
            "|      Ailyn|Female|          high|\n",
            "|    Ainsley|Female|          high|\n",
            "|  Albertine|Female|          high|\n",
            "|  Albertine|Female|          high|\n",
            "|  Albertine|Female|          high|\n",
            "|Alejandrina|Female|          high|\n",
            "|     Alexia|Female|          high|\n",
            "|     Alexia|Female|          high|\n",
            "|       Alie|Female|          high|\n",
            "|      Alika|Female|          high|\n",
            "|     Alikee|Female|          high|\n",
            "|      Alina|Female|          high|\n",
            "|      Alina|Female|          high|\n",
            "|       Ally|Female|          high|\n",
            "|     Almira|Female|          high|\n",
            "|     Althea|Female|          high|\n",
            "|     Amalee|Female|          high|\n",
            "|    Amaleta|Female|          high|\n",
            "|     Amanda|Female|          high|\n",
            "|     Amanda|Female|          high|\n",
            "|      Amber|Female|          high|\n",
            "|      Ambur|Female|          high|\n",
            "|        Ame|Female|          high|\n",
            "|   Anabella|Female|          high|\n",
            "|  Anastasie|Female|          high|\n",
            "|      Andee|Female|          high|\n",
            "|      Andie|Female|          high|\n",
            "|      Andie|Female|          high|\n",
            "|      Andie|Female|          high|\n",
            "|     Andrei|Female|          high|\n",
            "|       Andy|Female|          high|\n",
            "|       Andy|Female|          high|\n",
            "+-----------+------+--------------+\n",
            "only showing top 50 rows\n",
            "\n"
          ]
        }
      ]
    },
    {
      "cell_type": "markdown",
      "source": [
        "#                              Trabalho de Classificação iris\n",
        "\n",
        "\n",
        "\n"
      ],
      "metadata": {
        "id": "AbebBjhm8lxO"
      }
    },
    {
      "cell_type": "code",
      "source": [
        "from google.colab import files\n",
        "uploaded = files.upload()"
      ],
      "metadata": {
        "colab": {
          "base_uri": "https://localhost:8080/",
          "height": 73
        },
        "id": "N4BfWn6x7rPZ",
        "outputId": "d98d5c82-5d18-4a17-a7f4-0b76c3ec5058"
      },
      "execution_count": 23,
      "outputs": [
        {
          "output_type": "display_data",
          "data": {
            "text/plain": [
              "<IPython.core.display.HTML object>"
            ],
            "text/html": [
              "\n",
              "     <input type=\"file\" id=\"files-a4fc4eaf-5695-4f9e-9e50-0127de7aeaf6\" name=\"files[]\" multiple disabled\n",
              "        style=\"border:none\" />\n",
              "     <output id=\"result-a4fc4eaf-5695-4f9e-9e50-0127de7aeaf6\">\n",
              "      Upload widget is only available when the cell has been executed in the\n",
              "      current browser session. Please rerun this cell to enable.\n",
              "      </output>\n",
              "      <script>// Copyright 2017 Google LLC\n",
              "//\n",
              "// Licensed under the Apache License, Version 2.0 (the \"License\");\n",
              "// you may not use this file except in compliance with the License.\n",
              "// You may obtain a copy of the License at\n",
              "//\n",
              "//      http://www.apache.org/licenses/LICENSE-2.0\n",
              "//\n",
              "// Unless required by applicable law or agreed to in writing, software\n",
              "// distributed under the License is distributed on an \"AS IS\" BASIS,\n",
              "// WITHOUT WARRANTIES OR CONDITIONS OF ANY KIND, either express or implied.\n",
              "// See the License for the specific language governing permissions and\n",
              "// limitations under the License.\n",
              "\n",
              "/**\n",
              " * @fileoverview Helpers for google.colab Python module.\n",
              " */\n",
              "(function(scope) {\n",
              "function span(text, styleAttributes = {}) {\n",
              "  const element = document.createElement('span');\n",
              "  element.textContent = text;\n",
              "  for (const key of Object.keys(styleAttributes)) {\n",
              "    element.style[key] = styleAttributes[key];\n",
              "  }\n",
              "  return element;\n",
              "}\n",
              "\n",
              "// Max number of bytes which will be uploaded at a time.\n",
              "const MAX_PAYLOAD_SIZE = 100 * 1024;\n",
              "\n",
              "function _uploadFiles(inputId, outputId) {\n",
              "  const steps = uploadFilesStep(inputId, outputId);\n",
              "  const outputElement = document.getElementById(outputId);\n",
              "  // Cache steps on the outputElement to make it available for the next call\n",
              "  // to uploadFilesContinue from Python.\n",
              "  outputElement.steps = steps;\n",
              "\n",
              "  return _uploadFilesContinue(outputId);\n",
              "}\n",
              "\n",
              "// This is roughly an async generator (not supported in the browser yet),\n",
              "// where there are multiple asynchronous steps and the Python side is going\n",
              "// to poll for completion of each step.\n",
              "// This uses a Promise to block the python side on completion of each step,\n",
              "// then passes the result of the previous step as the input to the next step.\n",
              "function _uploadFilesContinue(outputId) {\n",
              "  const outputElement = document.getElementById(outputId);\n",
              "  const steps = outputElement.steps;\n",
              "\n",
              "  const next = steps.next(outputElement.lastPromiseValue);\n",
              "  return Promise.resolve(next.value.promise).then((value) => {\n",
              "    // Cache the last promise value to make it available to the next\n",
              "    // step of the generator.\n",
              "    outputElement.lastPromiseValue = value;\n",
              "    return next.value.response;\n",
              "  });\n",
              "}\n",
              "\n",
              "/**\n",
              " * Generator function which is called between each async step of the upload\n",
              " * process.\n",
              " * @param {string} inputId Element ID of the input file picker element.\n",
              " * @param {string} outputId Element ID of the output display.\n",
              " * @return {!Iterable<!Object>} Iterable of next steps.\n",
              " */\n",
              "function* uploadFilesStep(inputId, outputId) {\n",
              "  const inputElement = document.getElementById(inputId);\n",
              "  inputElement.disabled = false;\n",
              "\n",
              "  const outputElement = document.getElementById(outputId);\n",
              "  outputElement.innerHTML = '';\n",
              "\n",
              "  const pickedPromise = new Promise((resolve) => {\n",
              "    inputElement.addEventListener('change', (e) => {\n",
              "      resolve(e.target.files);\n",
              "    });\n",
              "  });\n",
              "\n",
              "  const cancel = document.createElement('button');\n",
              "  inputElement.parentElement.appendChild(cancel);\n",
              "  cancel.textContent = 'Cancel upload';\n",
              "  const cancelPromise = new Promise((resolve) => {\n",
              "    cancel.onclick = () => {\n",
              "      resolve(null);\n",
              "    };\n",
              "  });\n",
              "\n",
              "  // Wait for the user to pick the files.\n",
              "  const files = yield {\n",
              "    promise: Promise.race([pickedPromise, cancelPromise]),\n",
              "    response: {\n",
              "      action: 'starting',\n",
              "    }\n",
              "  };\n",
              "\n",
              "  cancel.remove();\n",
              "\n",
              "  // Disable the input element since further picks are not allowed.\n",
              "  inputElement.disabled = true;\n",
              "\n",
              "  if (!files) {\n",
              "    return {\n",
              "      response: {\n",
              "        action: 'complete',\n",
              "      }\n",
              "    };\n",
              "  }\n",
              "\n",
              "  for (const file of files) {\n",
              "    const li = document.createElement('li');\n",
              "    li.append(span(file.name, {fontWeight: 'bold'}));\n",
              "    li.append(span(\n",
              "        `(${file.type || 'n/a'}) - ${file.size} bytes, ` +\n",
              "        `last modified: ${\n",
              "            file.lastModifiedDate ? file.lastModifiedDate.toLocaleDateString() :\n",
              "                                    'n/a'} - `));\n",
              "    const percent = span('0% done');\n",
              "    li.appendChild(percent);\n",
              "\n",
              "    outputElement.appendChild(li);\n",
              "\n",
              "    const fileDataPromise = new Promise((resolve) => {\n",
              "      const reader = new FileReader();\n",
              "      reader.onload = (e) => {\n",
              "        resolve(e.target.result);\n",
              "      };\n",
              "      reader.readAsArrayBuffer(file);\n",
              "    });\n",
              "    // Wait for the data to be ready.\n",
              "    let fileData = yield {\n",
              "      promise: fileDataPromise,\n",
              "      response: {\n",
              "        action: 'continue',\n",
              "      }\n",
              "    };\n",
              "\n",
              "    // Use a chunked sending to avoid message size limits. See b/62115660.\n",
              "    let position = 0;\n",
              "    do {\n",
              "      const length = Math.min(fileData.byteLength - position, MAX_PAYLOAD_SIZE);\n",
              "      const chunk = new Uint8Array(fileData, position, length);\n",
              "      position += length;\n",
              "\n",
              "      const base64 = btoa(String.fromCharCode.apply(null, chunk));\n",
              "      yield {\n",
              "        response: {\n",
              "          action: 'append',\n",
              "          file: file.name,\n",
              "          data: base64,\n",
              "        },\n",
              "      };\n",
              "\n",
              "      let percentDone = fileData.byteLength === 0 ?\n",
              "          100 :\n",
              "          Math.round((position / fileData.byteLength) * 100);\n",
              "      percent.textContent = `${percentDone}% done`;\n",
              "\n",
              "    } while (position < fileData.byteLength);\n",
              "  }\n",
              "\n",
              "  // All done.\n",
              "  yield {\n",
              "    response: {\n",
              "      action: 'complete',\n",
              "    }\n",
              "  };\n",
              "}\n",
              "\n",
              "scope.google = scope.google || {};\n",
              "scope.google.colab = scope.google.colab || {};\n",
              "scope.google.colab._files = {\n",
              "  _uploadFiles,\n",
              "  _uploadFilesContinue,\n",
              "};\n",
              "})(self);\n",
              "</script> "
            ]
          },
          "metadata": {}
        },
        {
          "output_type": "stream",
          "name": "stdout",
          "text": [
            "Saving Iris.csv to Iris (2).csv\n"
          ]
        }
      ]
    },
    {
      "cell_type": "markdown",
      "source": [
        "## Análise dos dados\n",
        "– A partir das caracteristicas da flor Iris, o objetivo é classificar (definir a classe / rótulo) de qual é o tipo dessa flor, entre três tipos possíveis: Versicolor, Setosa e Virginica.\n",
        "- Este dataset é composto por cinco características: SepalLength (Comprimento da Sépala), SepalWidth (Largura da Sépala), PetalLength (Comprimento da Pétala), PetalWidth (Largura da Pétala) e Espécie (Species).\n",
        "Objetivo\n",
        "Treinar um modelo para prever e classificar uma rosa a partir das medidas fornecidas em função de suas features (SepalLengthCm, SepalWidthCm, PetalLengthCm, etc.)"
      ],
      "metadata": {
        "id": "O0GMDUmx8Uyb"
      }
    },
    {
      "cell_type": "markdown",
      "source": [
        "# Objetivo\n",
        "Treinar um modelo para prever e classificar uma rosa a partir das medidas fornecidas em função de suas features (SepalLengthCm, SepalWidthCm, PetalLengthCm, etc.)"
      ],
      "metadata": {
        "id": "tQd_aElL88AA"
      }
    },
    {
      "cell_type": "code",
      "source": [
        "!pip install pyspark\n"
      ],
      "metadata": {
        "colab": {
          "base_uri": "https://localhost:8080/"
        },
        "id": "yQc8tiAd9I4Y",
        "outputId": "1ba6bc8d-46a4-4178-8dab-776f464deb52"
      },
      "execution_count": 24,
      "outputs": [
        {
          "output_type": "stream",
          "name": "stdout",
          "text": [
            "Requirement already satisfied: pyspark in /usr/local/lib/python3.10/dist-packages (3.5.0)\n",
            "Requirement already satisfied: py4j==0.10.9.7 in /usr/local/lib/python3.10/dist-packages (from pyspark) (0.10.9.7)\n"
          ]
        }
      ]
    },
    {
      "cell_type": "code",
      "source": [
        "df_iris = spark.read.csv(path=\"Iris.csv\", header=True, inferSchema=True)\n",
        "df_iris.show()"
      ],
      "metadata": {
        "colab": {
          "base_uri": "https://localhost:8080/"
        },
        "id": "Y0KrF9zG_RHi",
        "outputId": "106e8054-781f-46e2-a66a-a7758fa1de86"
      },
      "execution_count": 27,
      "outputs": [
        {
          "output_type": "stream",
          "name": "stdout",
          "text": [
            "+-------------+------------+-------------+------------+-----------+\n",
            "|SepalLengthCm|SepalWidthCm|PetalLengthCm|PetalWidthCm|    Species|\n",
            "+-------------+------------+-------------+------------+-----------+\n",
            "|          5.1|         3.5|          1.4|         0.2|Iris-setosa|\n",
            "|          4.9|         3.0|          1.4|         0.2|Iris-setosa|\n",
            "|          4.7|         3.2|          1.3|         0.2|Iris-setosa|\n",
            "|          4.6|         3.1|          1.5|         0.2|Iris-setosa|\n",
            "|          5.0|         3.6|          1.4|         0.2|Iris-setosa|\n",
            "|          5.4|         3.9|          1.7|         0.4|Iris-setosa|\n",
            "|          4.6|         3.4|          1.4|         0.3|Iris-setosa|\n",
            "|          5.0|         3.4|          1.5|         0.2|Iris-setosa|\n",
            "|          4.4|         2.9|          1.4|         0.2|Iris-setosa|\n",
            "|          4.9|         3.1|          1.5|         0.1|Iris-setosa|\n",
            "|          5.4|         3.7|          1.5|         0.2|Iris-setosa|\n",
            "|          4.8|         3.4|          1.6|         0.2|Iris-setosa|\n",
            "|          4.8|         3.0|          1.4|         0.1|Iris-setosa|\n",
            "|          4.3|         3.0|          1.1|         0.1|Iris-setosa|\n",
            "|          5.8|         4.0|          1.2|         0.2|Iris-setosa|\n",
            "|          5.7|         4.4|          1.5|         0.4|Iris-setosa|\n",
            "|          5.4|         3.9|          1.3|         0.4|Iris-setosa|\n",
            "|          5.1|         3.5|          1.4|         0.3|Iris-setosa|\n",
            "|          5.7|         3.8|          1.7|         0.3|Iris-setosa|\n",
            "|          5.1|         3.8|          1.5|         0.3|Iris-setosa|\n",
            "+-------------+------------+-------------+------------+-----------+\n",
            "only showing top 20 rows\n",
            "\n"
          ]
        }
      ]
    },
    {
      "cell_type": "code",
      "source": [
        "df_iris.printSchema()"
      ],
      "metadata": {
        "colab": {
          "base_uri": "https://localhost:8080/"
        },
        "id": "qgHjB8d_AU62",
        "outputId": "b92db752-0c68-4dd7-f1cc-10be71e252f2"
      },
      "execution_count": 28,
      "outputs": [
        {
          "output_type": "stream",
          "name": "stdout",
          "text": [
            "root\n",
            " |-- SepalLengthCm: double (nullable = true)\n",
            " |-- SepalWidthCm: double (nullable = true)\n",
            " |-- PetalLengthCm: double (nullable = true)\n",
            " |-- PetalWidthCm: double (nullable = true)\n",
            " |-- Species: string (nullable = true)\n",
            "\n"
          ]
        }
      ]
    },
    {
      "cell_type": "code",
      "source": [
        "#Trabalhando com vetores"
      ],
      "metadata": {
        "id": "gU4gP74mAZxt"
      },
      "execution_count": 29,
      "outputs": []
    },
    {
      "cell_type": "code",
      "source": [
        "from pyspark.ml.linalg import Vectors\n",
        "from pyspark.ml.feature import VectorAssembler, OneHotEncoder, StringIndexer"
      ],
      "metadata": {
        "id": "jJ6HEs0TAgMk"
      },
      "execution_count": 30,
      "outputs": []
    },
    {
      "cell_type": "code",
      "source": [
        "#Dropando linhas nulas e transformando Atributos Categóricos"
      ],
      "metadata": {
        "id": "Oe9w0dVHApzd"
      },
      "execution_count": null,
      "outputs": []
    },
    {
      "cell_type": "code",
      "source": [
        "df_iris = df_iris.na.drop()\n",
        "df_iris.count()"
      ],
      "metadata": {
        "colab": {
          "base_uri": "https://localhost:8080/"
        },
        "id": "jwgte5xoAsqu",
        "outputId": "18328d65-2ba1-43f8-a498-6fa3df69a87c"
      },
      "execution_count": 31,
      "outputs": [
        {
          "output_type": "execute_result",
          "data": {
            "text/plain": [
              "150"
            ]
          },
          "metadata": {},
          "execution_count": 31
        }
      ]
    },
    {
      "cell_type": "code",
      "source": [
        "label_index = StringIndexer(inputCol=\"Species\", outputCol=\"indexedLabel\")\n",
        "model_label = label_index.fit(df_iris)\n",
        "df_iris = model_label.transform(df_iris)\n",
        "df_iris.show(50)"
      ],
      "metadata": {
        "colab": {
          "base_uri": "https://localhost:8080/"
        },
        "id": "f3VK4wDmA3Yv",
        "outputId": "f79c428a-368a-45ae-f914-83704d97912c"
      },
      "execution_count": 32,
      "outputs": [
        {
          "output_type": "stream",
          "name": "stdout",
          "text": [
            "+-------------+------------+-------------+------------+-----------+------------+\n",
            "|SepalLengthCm|SepalWidthCm|PetalLengthCm|PetalWidthCm|    Species|indexedLabel|\n",
            "+-------------+------------+-------------+------------+-----------+------------+\n",
            "|          5.1|         3.5|          1.4|         0.2|Iris-setosa|         0.0|\n",
            "|          4.9|         3.0|          1.4|         0.2|Iris-setosa|         0.0|\n",
            "|          4.7|         3.2|          1.3|         0.2|Iris-setosa|         0.0|\n",
            "|          4.6|         3.1|          1.5|         0.2|Iris-setosa|         0.0|\n",
            "|          5.0|         3.6|          1.4|         0.2|Iris-setosa|         0.0|\n",
            "|          5.4|         3.9|          1.7|         0.4|Iris-setosa|         0.0|\n",
            "|          4.6|         3.4|          1.4|         0.3|Iris-setosa|         0.0|\n",
            "|          5.0|         3.4|          1.5|         0.2|Iris-setosa|         0.0|\n",
            "|          4.4|         2.9|          1.4|         0.2|Iris-setosa|         0.0|\n",
            "|          4.9|         3.1|          1.5|         0.1|Iris-setosa|         0.0|\n",
            "|          5.4|         3.7|          1.5|         0.2|Iris-setosa|         0.0|\n",
            "|          4.8|         3.4|          1.6|         0.2|Iris-setosa|         0.0|\n",
            "|          4.8|         3.0|          1.4|         0.1|Iris-setosa|         0.0|\n",
            "|          4.3|         3.0|          1.1|         0.1|Iris-setosa|         0.0|\n",
            "|          5.8|         4.0|          1.2|         0.2|Iris-setosa|         0.0|\n",
            "|          5.7|         4.4|          1.5|         0.4|Iris-setosa|         0.0|\n",
            "|          5.4|         3.9|          1.3|         0.4|Iris-setosa|         0.0|\n",
            "|          5.1|         3.5|          1.4|         0.3|Iris-setosa|         0.0|\n",
            "|          5.7|         3.8|          1.7|         0.3|Iris-setosa|         0.0|\n",
            "|          5.1|         3.8|          1.5|         0.3|Iris-setosa|         0.0|\n",
            "|          5.4|         3.4|          1.7|         0.2|Iris-setosa|         0.0|\n",
            "|          5.1|         3.7|          1.5|         0.4|Iris-setosa|         0.0|\n",
            "|          4.6|         3.6|          1.0|         0.2|Iris-setosa|         0.0|\n",
            "|          5.1|         3.3|          1.7|         0.5|Iris-setosa|         0.0|\n",
            "|          4.8|         3.4|          1.9|         0.2|Iris-setosa|         0.0|\n",
            "|          5.0|         3.0|          1.6|         0.2|Iris-setosa|         0.0|\n",
            "|          5.0|         3.4|          1.6|         0.4|Iris-setosa|         0.0|\n",
            "|          5.2|         3.5|          1.5|         0.2|Iris-setosa|         0.0|\n",
            "|          5.2|         3.4|          1.4|         0.2|Iris-setosa|         0.0|\n",
            "|          4.7|         3.2|          1.6|         0.2|Iris-setosa|         0.0|\n",
            "|          4.8|         3.1|          1.6|         0.2|Iris-setosa|         0.0|\n",
            "|          5.4|         3.4|          1.5|         0.4|Iris-setosa|         0.0|\n",
            "|          5.2|         4.1|          1.5|         0.1|Iris-setosa|         0.0|\n",
            "|          5.5|         4.2|          1.4|         0.2|Iris-setosa|         0.0|\n",
            "|          4.9|         3.1|          1.5|         0.1|Iris-setosa|         0.0|\n",
            "|          5.0|         3.2|          1.2|         0.2|Iris-setosa|         0.0|\n",
            "|          5.5|         3.5|          1.3|         0.2|Iris-setosa|         0.0|\n",
            "|          4.9|         3.1|          1.5|         0.1|Iris-setosa|         0.0|\n",
            "|          4.4|         3.0|          1.3|         0.2|Iris-setosa|         0.0|\n",
            "|          5.1|         3.4|          1.5|         0.2|Iris-setosa|         0.0|\n",
            "|          5.0|         3.5|          1.3|         0.3|Iris-setosa|         0.0|\n",
            "|          4.5|         2.3|          1.3|         0.3|Iris-setosa|         0.0|\n",
            "|          4.4|         3.2|          1.3|         0.2|Iris-setosa|         0.0|\n",
            "|          5.0|         3.5|          1.6|         0.6|Iris-setosa|         0.0|\n",
            "|          5.1|         3.8|          1.9|         0.4|Iris-setosa|         0.0|\n",
            "|          4.8|         3.0|          1.4|         0.3|Iris-setosa|         0.0|\n",
            "|          5.1|         3.8|          1.6|         0.2|Iris-setosa|         0.0|\n",
            "|          4.6|         3.2|          1.4|         0.2|Iris-setosa|         0.0|\n",
            "|          5.3|         3.7|          1.5|         0.2|Iris-setosa|         0.0|\n",
            "|          5.0|         3.3|          1.4|         0.2|Iris-setosa|         0.0|\n",
            "+-------------+------------+-------------+------------+-----------+------------+\n",
            "only showing top 50 rows\n",
            "\n"
          ]
        }
      ]
    },
    {
      "cell_type": "code",
      "source": [
        "df_iris.printSchema()"
      ],
      "metadata": {
        "colab": {
          "base_uri": "https://localhost:8080/"
        },
        "id": "beb54t7pA_YF",
        "outputId": "e762b986-c890-449f-f253-15e43671f5c4"
      },
      "execution_count": 33,
      "outputs": [
        {
          "output_type": "stream",
          "name": "stdout",
          "text": [
            "root\n",
            " |-- SepalLengthCm: double (nullable = true)\n",
            " |-- SepalWidthCm: double (nullable = true)\n",
            " |-- PetalLengthCm: double (nullable = true)\n",
            " |-- PetalWidthCm: double (nullable = true)\n",
            " |-- Species: string (nullable = true)\n",
            " |-- indexedLabel: double (nullable = false)\n",
            "\n"
          ]
        }
      ]
    },
    {
      "cell_type": "code",
      "source": [
        "# Montando os vetores"
      ],
      "metadata": {
        "id": "OdMSrYdXBG4O"
      },
      "execution_count": null,
      "outputs": []
    },
    {
      "cell_type": "code",
      "source": [
        "assembler = VectorAssembler(inputCols=[\"SepalLengthCm\", \"SepalWidthCm\", \"PetalLengthCm\", \"PetalWidthCm\"],outputCol=\"features\")\n",
        "df_features = assembler.transform(df_iris)\n",
        "df_features.show(20, False)"
      ],
      "metadata": {
        "colab": {
          "base_uri": "https://localhost:8080/"
        },
        "id": "a7j5V5amBKNN",
        "outputId": "f6cbb171-379b-42d5-976e-f157aa21a7cc"
      },
      "execution_count": 34,
      "outputs": [
        {
          "output_type": "stream",
          "name": "stdout",
          "text": [
            "+-------------+------------+-------------+------------+-----------+------------+-----------------+\n",
            "|SepalLengthCm|SepalWidthCm|PetalLengthCm|PetalWidthCm|Species    |indexedLabel|features         |\n",
            "+-------------+------------+-------------+------------+-----------+------------+-----------------+\n",
            "|5.1          |3.5         |1.4          |0.2         |Iris-setosa|0.0         |[5.1,3.5,1.4,0.2]|\n",
            "|4.9          |3.0         |1.4          |0.2         |Iris-setosa|0.0         |[4.9,3.0,1.4,0.2]|\n",
            "|4.7          |3.2         |1.3          |0.2         |Iris-setosa|0.0         |[4.7,3.2,1.3,0.2]|\n",
            "|4.6          |3.1         |1.5          |0.2         |Iris-setosa|0.0         |[4.6,3.1,1.5,0.2]|\n",
            "|5.0          |3.6         |1.4          |0.2         |Iris-setosa|0.0         |[5.0,3.6,1.4,0.2]|\n",
            "|5.4          |3.9         |1.7          |0.4         |Iris-setosa|0.0         |[5.4,3.9,1.7,0.4]|\n",
            "|4.6          |3.4         |1.4          |0.3         |Iris-setosa|0.0         |[4.6,3.4,1.4,0.3]|\n",
            "|5.0          |3.4         |1.5          |0.2         |Iris-setosa|0.0         |[5.0,3.4,1.5,0.2]|\n",
            "|4.4          |2.9         |1.4          |0.2         |Iris-setosa|0.0         |[4.4,2.9,1.4,0.2]|\n",
            "|4.9          |3.1         |1.5          |0.1         |Iris-setosa|0.0         |[4.9,3.1,1.5,0.1]|\n",
            "|5.4          |3.7         |1.5          |0.2         |Iris-setosa|0.0         |[5.4,3.7,1.5,0.2]|\n",
            "|4.8          |3.4         |1.6          |0.2         |Iris-setosa|0.0         |[4.8,3.4,1.6,0.2]|\n",
            "|4.8          |3.0         |1.4          |0.1         |Iris-setosa|0.0         |[4.8,3.0,1.4,0.1]|\n",
            "|4.3          |3.0         |1.1          |0.1         |Iris-setosa|0.0         |[4.3,3.0,1.1,0.1]|\n",
            "|5.8          |4.0         |1.2          |0.2         |Iris-setosa|0.0         |[5.8,4.0,1.2,0.2]|\n",
            "|5.7          |4.4         |1.5          |0.4         |Iris-setosa|0.0         |[5.7,4.4,1.5,0.4]|\n",
            "|5.4          |3.9         |1.3          |0.4         |Iris-setosa|0.0         |[5.4,3.9,1.3,0.4]|\n",
            "|5.1          |3.5         |1.4          |0.3         |Iris-setosa|0.0         |[5.1,3.5,1.4,0.3]|\n",
            "|5.7          |3.8         |1.7          |0.3         |Iris-setosa|0.0         |[5.7,3.8,1.7,0.3]|\n",
            "|5.1          |3.8         |1.5          |0.3         |Iris-setosa|0.0         |[5.1,3.8,1.5,0.3]|\n",
            "+-------------+------------+-------------+------------+-----------+------------+-----------------+\n",
            "only showing top 20 rows\n",
            "\n"
          ]
        }
      ]
    },
    {
      "cell_type": "code",
      "source": [
        " # Selecionando atributos que interessam para o modelo"
      ],
      "metadata": {
        "id": "xnjw-6LNBPl_"
      },
      "execution_count": null,
      "outputs": []
    },
    {
      "cell_type": "code",
      "source": [
        "df_features = df_features.select(df_features.indexedLabel, df_features.features)\n",
        "df_features.show(50, False)"
      ],
      "metadata": {
        "colab": {
          "base_uri": "https://localhost:8080/"
        },
        "id": "cSU2454tBZk0",
        "outputId": "dbae8fd2-4825-4c8b-e20f-2de119a67f15"
      },
      "execution_count": 35,
      "outputs": [
        {
          "output_type": "stream",
          "name": "stdout",
          "text": [
            "+------------+-----------------+\n",
            "|indexedLabel|features         |\n",
            "+------------+-----------------+\n",
            "|0.0         |[5.1,3.5,1.4,0.2]|\n",
            "|0.0         |[4.9,3.0,1.4,0.2]|\n",
            "|0.0         |[4.7,3.2,1.3,0.2]|\n",
            "|0.0         |[4.6,3.1,1.5,0.2]|\n",
            "|0.0         |[5.0,3.6,1.4,0.2]|\n",
            "|0.0         |[5.4,3.9,1.7,0.4]|\n",
            "|0.0         |[4.6,3.4,1.4,0.3]|\n",
            "|0.0         |[5.0,3.4,1.5,0.2]|\n",
            "|0.0         |[4.4,2.9,1.4,0.2]|\n",
            "|0.0         |[4.9,3.1,1.5,0.1]|\n",
            "|0.0         |[5.4,3.7,1.5,0.2]|\n",
            "|0.0         |[4.8,3.4,1.6,0.2]|\n",
            "|0.0         |[4.8,3.0,1.4,0.1]|\n",
            "|0.0         |[4.3,3.0,1.1,0.1]|\n",
            "|0.0         |[5.8,4.0,1.2,0.2]|\n",
            "|0.0         |[5.7,4.4,1.5,0.4]|\n",
            "|0.0         |[5.4,3.9,1.3,0.4]|\n",
            "|0.0         |[5.1,3.5,1.4,0.3]|\n",
            "|0.0         |[5.7,3.8,1.7,0.3]|\n",
            "|0.0         |[5.1,3.8,1.5,0.3]|\n",
            "|0.0         |[5.4,3.4,1.7,0.2]|\n",
            "|0.0         |[5.1,3.7,1.5,0.4]|\n",
            "|0.0         |[4.6,3.6,1.0,0.2]|\n",
            "|0.0         |[5.1,3.3,1.7,0.5]|\n",
            "|0.0         |[4.8,3.4,1.9,0.2]|\n",
            "|0.0         |[5.0,3.0,1.6,0.2]|\n",
            "|0.0         |[5.0,3.4,1.6,0.4]|\n",
            "|0.0         |[5.2,3.5,1.5,0.2]|\n",
            "|0.0         |[5.2,3.4,1.4,0.2]|\n",
            "|0.0         |[4.7,3.2,1.6,0.2]|\n",
            "|0.0         |[4.8,3.1,1.6,0.2]|\n",
            "|0.0         |[5.4,3.4,1.5,0.4]|\n",
            "|0.0         |[5.2,4.1,1.5,0.1]|\n",
            "|0.0         |[5.5,4.2,1.4,0.2]|\n",
            "|0.0         |[4.9,3.1,1.5,0.1]|\n",
            "|0.0         |[5.0,3.2,1.2,0.2]|\n",
            "|0.0         |[5.5,3.5,1.3,0.2]|\n",
            "|0.0         |[4.9,3.1,1.5,0.1]|\n",
            "|0.0         |[4.4,3.0,1.3,0.2]|\n",
            "|0.0         |[5.1,3.4,1.5,0.2]|\n",
            "|0.0         |[5.0,3.5,1.3,0.3]|\n",
            "|0.0         |[4.5,2.3,1.3,0.3]|\n",
            "|0.0         |[4.4,3.2,1.3,0.2]|\n",
            "|0.0         |[5.0,3.5,1.6,0.6]|\n",
            "|0.0         |[5.1,3.8,1.9,0.4]|\n",
            "|0.0         |[4.8,3.0,1.4,0.3]|\n",
            "|0.0         |[5.1,3.8,1.6,0.2]|\n",
            "|0.0         |[4.6,3.2,1.4,0.2]|\n",
            "|0.0         |[5.3,3.7,1.5,0.2]|\n",
            "|0.0         |[5.0,3.3,1.4,0.2]|\n",
            "+------------+-----------------+\n",
            "only showing top 50 rows\n",
            "\n"
          ]
        }
      ]
    },
    {
      "cell_type": "code",
      "source": [
        "df_features.printSchema()"
      ],
      "metadata": {
        "colab": {
          "base_uri": "https://localhost:8080/"
        },
        "id": "xe6iiDpLBfH_",
        "outputId": "69f1e969-b2cc-4328-c2e7-93964eecf59f"
      },
      "execution_count": 36,
      "outputs": [
        {
          "output_type": "stream",
          "name": "stdout",
          "text": [
            "root\n",
            " |-- indexedLabel: double (nullable = false)\n",
            " |-- features: vector (nullable = true)\n",
            "\n"
          ]
        }
      ]
    },
    {
      "cell_type": "code",
      "source": [
        "df_novo = df_features.withColumnRenamed(\"indexedLabel\", \"label\")\n",
        "df_novo.show()"
      ],
      "metadata": {
        "colab": {
          "base_uri": "https://localhost:8080/"
        },
        "id": "pxu5K2MABjkt",
        "outputId": "1476ed68-4676-491c-dde4-a45329b250c9"
      },
      "execution_count": 37,
      "outputs": [
        {
          "output_type": "stream",
          "name": "stdout",
          "text": [
            "+-----+-----------------+\n",
            "|label|         features|\n",
            "+-----+-----------------+\n",
            "|  0.0|[5.1,3.5,1.4,0.2]|\n",
            "|  0.0|[4.9,3.0,1.4,0.2]|\n",
            "|  0.0|[4.7,3.2,1.3,0.2]|\n",
            "|  0.0|[4.6,3.1,1.5,0.2]|\n",
            "|  0.0|[5.0,3.6,1.4,0.2]|\n",
            "|  0.0|[5.4,3.9,1.7,0.4]|\n",
            "|  0.0|[4.6,3.4,1.4,0.3]|\n",
            "|  0.0|[5.0,3.4,1.5,0.2]|\n",
            "|  0.0|[4.4,2.9,1.4,0.2]|\n",
            "|  0.0|[4.9,3.1,1.5,0.1]|\n",
            "|  0.0|[5.4,3.7,1.5,0.2]|\n",
            "|  0.0|[4.8,3.4,1.6,0.2]|\n",
            "|  0.0|[4.8,3.0,1.4,0.1]|\n",
            "|  0.0|[4.3,3.0,1.1,0.1]|\n",
            "|  0.0|[5.8,4.0,1.2,0.2]|\n",
            "|  0.0|[5.7,4.4,1.5,0.4]|\n",
            "|  0.0|[5.4,3.9,1.3,0.4]|\n",
            "|  0.0|[5.1,3.5,1.4,0.3]|\n",
            "|  0.0|[5.7,3.8,1.7,0.3]|\n",
            "|  0.0|[5.1,3.8,1.5,0.3]|\n",
            "+-----+-----------------+\n",
            "only showing top 20 rows\n",
            "\n"
          ]
        }
      ]
    },
    {
      "cell_type": "markdown",
      "source": [
        "# Base para treino e teste"
      ],
      "metadata": {
        "id": "G4uoTiPXGS6Q"
      }
    },
    {
      "cell_type": "code",
      "source": [
        "(trainingData, testData) = df_novo.randomSplit([0.8, 0.4])\n",
        "\n",
        "print(trainingData.count(), testData.count())"
      ],
      "metadata": {
        "colab": {
          "base_uri": "https://localhost:8080/"
        },
        "id": "glfwrDs9Gb37",
        "outputId": "48e37e51-db83-480e-bb0e-198a9073205e"
      },
      "execution_count": 66,
      "outputs": [
        {
          "output_type": "stream",
          "name": "stdout",
          "text": [
            "103 47\n"
          ]
        }
      ]
    },
    {
      "cell_type": "code",
      "source": [
        "trainingData.show(3)\n",
        "testData.show(3)"
      ],
      "metadata": {
        "colab": {
          "base_uri": "https://localhost:8080/"
        },
        "id": "PzssZyM3GmuB",
        "outputId": "141b0c73-e16e-476b-f4fd-1885732548c0"
      },
      "execution_count": 67,
      "outputs": [
        {
          "output_type": "stream",
          "name": "stdout",
          "text": [
            "+-----+-----------------+\n",
            "|label|         features|\n",
            "+-----+-----------------+\n",
            "|  0.0|[4.3,3.0,1.1,0.1]|\n",
            "|  0.0|[4.4,2.9,1.4,0.2]|\n",
            "|  0.0|[4.4,3.0,1.3,0.2]|\n",
            "+-----+-----------------+\n",
            "only showing top 3 rows\n",
            "\n",
            "+-----+-----------------+\n",
            "|label|         features|\n",
            "+-----+-----------------+\n",
            "|  0.0|[4.5,2.3,1.3,0.3]|\n",
            "|  0.0|[4.8,3.0,1.4,0.3]|\n",
            "|  0.0|[4.8,3.4,1.6,0.2]|\n",
            "+-----+-----------------+\n",
            "only showing top 3 rows\n",
            "\n"
          ]
        }
      ]
    },
    {
      "cell_type": "markdown",
      "source": [
        "## Regressão Logística"
      ],
      "metadata": {
        "id": "--9XdEfIGvBC"
      }
    },
    {
      "cell_type": "code",
      "source": [
        "from pyspark.ml.classification import LogisticRegression #, BinaryLogisticRegressionTrainingSummary\n",
        "from pyspark.ml.evaluation import BinaryClassificationEvaluator"
      ],
      "metadata": {
        "id": "nFXZoKKaGyg5"
      },
      "execution_count": 68,
      "outputs": []
    },
    {
      "cell_type": "code",
      "source": [
        "lru = LogisticRegression()"
      ],
      "metadata": {
        "id": "Jg3w7zIbG0kT"
      },
      "execution_count": 69,
      "outputs": []
    },
    {
      "cell_type": "code",
      "source": [
        "lruModelo = lru.fit(trainingData)"
      ],
      "metadata": {
        "id": "Zq62lb-4G4OH"
      },
      "execution_count": 70,
      "outputs": []
    },
    {
      "cell_type": "code",
      "source": [
        "resultado = lruModelo.summary\n",
        "print(\"Accuracy: %s\" % str(resultado.accuracy))\n",
        "print(\"True positive: %s\" % str(resultado.truePositiveRateByLabel))\n",
        "print(\"False positive: %s\" % str(resultado.falsePositiveRateByLabel))\n",
        "print(resultado.precisionByLabel)"
      ],
      "metadata": {
        "colab": {
          "base_uri": "https://localhost:8080/"
        },
        "id": "1KMJreAtHAV4",
        "outputId": "435f1d10-911e-4144-afcd-4b9f07d5338c"
      },
      "execution_count": 71,
      "outputs": [
        {
          "output_type": "stream",
          "name": "stdout",
          "text": [
            "Accuracy: 0.9805825242718447\n",
            "True positive: [1.0, 0.9696969696969697, 0.9696969696969697]\n",
            "False positive: [0.0, 0.014285714285714285, 0.014285714285714285]\n",
            "[1.0, 0.9696969696969697, 0.9696969696969697]\n"
          ]
        }
      ]
    },
    {
      "cell_type": "code",
      "source": [
        "# Aplicando a base de teste no Modelo\n",
        "df_resultado = lruModelo.transform(testData)\n",
        "df_resultado.show(30,truncate=False)"
      ],
      "metadata": {
        "colab": {
          "base_uri": "https://localhost:8080/"
        },
        "id": "-ICawPmIHH6q",
        "outputId": "3799c16c-5f89-49d7-da68-b3d0d05eac21"
      },
      "execution_count": 72,
      "outputs": [
        {
          "output_type": "stream",
          "name": "stdout",
          "text": [
            "+-----+-----------------+-----------------------------------------------------------+------------------------------------------------------------------+----------+\n",
            "|label|features         |rawPrediction                                              |probability                                                       |prediction|\n",
            "+-----+-----------------+-----------------------------------------------------------+------------------------------------------------------------------+----------+\n",
            "|0.0  |[4.5,2.3,1.3,0.3]|[18.251758646151604,13.131865956067923,-31.383624602219523]|[0.9940588440780677,0.005941155921932273,2.760826034169026E-22]   |0.0       |\n",
            "|0.0  |[4.8,3.0,1.4,0.3]|[26.007201131885676,10.676559535333023,-36.68376066721869] |[0.9999997802206649,2.197793350776315E-7,5.93828626961446E-28]    |0.0       |\n",
            "|0.0  |[4.8,3.4,1.6,0.2]|[32.002113660146435,8.352564896662841,-40.35467855680927]  |[0.9999999999464042,5.359588819698459E-11,3.7656886722456565E-32] |0.0       |\n",
            "|0.0  |[5.0,3.0,1.6,0.2]|[24.797505036530683,11.495444833114309,-36.292949869644985]|[0.9999983289558285,1.671044171612456E-6,2.9427394511651925E-27]  |0.0       |\n",
            "|0.0  |[5.0,3.3,1.4,0.2]|[30.23264049912599,10.238563849557039,-40.47120434868303]  |[0.9999999979266012,2.073398783738087E-9,1.966574177864072E-31]   |0.0       |\n",
            "|0.0  |[5.0,3.4,1.6,0.4]|[28.353865382004482,8.976837270022084,-37.33070265202657]  |[0.9999999961570598,3.842940086322984E-9,2.9754630053938506E-29]  |0.0       |\n",
            "|0.0  |[5.0,3.5,1.3,0.3]|[32.52701704256171,9.157516143527886,-41.6845331860896]    |[0.9999999999290823,7.091771184692747E-11,5.892956593650784E-33]  |0.0       |\n",
            "|0.0  |[5.0,3.5,1.6,0.6]|[27.507483006280633,8.071622841521041,-35.57910584780168]  |[0.999999996376626,3.623374118159539E-9,3.9979980411779368E-28]   |0.0       |\n",
            "|0.0  |[5.1,3.3,1.7,0.5]|[24.545963965168806,9.64851509271514,-34.19447905788394]   |[0.9999996610621947,3.3893780536709955E-7,3.085670747271024E-26]  |0.0       |\n",
            "|0.0  |[5.2,4.1,1.5,0.1]|[41.27978803099691,6.93332353061212,-48.213111561609026]   |[0.9999999999999989,1.2120484893070166E-15,1.3605908231009952E-39]|0.0       |\n",
            "|0.0  |[5.4,3.7,1.5,0.2]|[32.91819776598631,9.89249510857827,-42.81069287456455]    |[0.9999999998999851,1.0001482834253061E-10,1.2922920544517918E-33]|0.0       |\n",
            "|0.0  |[5.4,3.9,1.7,0.4]|[32.50700355593068,8.092970817512914,-40.59997437344359]   |[0.9999999999750471,2.4952858318157714E-11,1.7784550649935476E-32]|0.0       |\n",
            "|0.0  |[5.5,4.2,1.4,0.2]|[40.10515617433845,7.877607171608189,-47.98276334594664]   |[0.99999999999999,1.0086797516680895E-14,5.5450137831147126E-39]  |0.0       |\n",
            "|1.0  |[5.2,2.7,3.9,1.4]|[-6.695818902830535,7.796137019321438,-1.1003181164908895] |[5.08351197584327E-7,0.9998626371854468,1.3685446335555513E-4]    |1.0       |\n",
            "|1.0  |[5.5,2.4,3.8,1.1]|[-9.112847822173077,11.626444940380381,-2.5135971182072936]|[9.841001098456175E-10,0.9999992761504864,7.228654133174239E-7]   |1.0       |\n",
            "|1.0  |[5.5,2.5,4.0,1.3]|[-10.991622939294576,10.36471836084542,0.6269045784491674] |[5.309250208488595E-10,0.9999409935496931,5.900591938171326E-5]   |1.0       |\n",
            "|1.0  |[5.6,2.5,3.9,1.1]|[-8.828605783482114,11.406235698497966,-2.577629915015841] |[1.6297449143089963E-9,0.9999991533172302,8.450530249001183E-7]   |1.0       |\n",
            "|1.0  |[5.6,2.7,4.2,1.3]|[-9.755996364236555,9.42845533191565,0.3275410323209158]   |[4.65854225600543E-9,0.9998884440279158,1.115513135420118E-4]     |1.0       |\n",
            "|1.0  |[5.6,3.0,4.5,1.5]|[-9.215806037925109,6.912877253802939,2.302928784122173]   |[9.797176396968325E-8,0.9901456446939907,0.009854257334245144]    |1.0       |\n",
            "|1.0  |[5.7,2.6,3.5,1.0]|[-4.806400249902179,12.261015192685676,-7.454614942783493] |[3.870041613882051E-8,0.9999999585604668,2.7391171488689805E-9]   |1.0       |\n",
            "|1.0  |[5.7,2.8,4.1,1.3]|[-8.43936158414795,9.56475824106716,-1.1253966569191967]   |[1.5167018409152967E-8,0.9999772173603795,2.2767472602038014E-5]  |1.0       |\n",
            "|1.0  |[5.7,2.8,4.5,1.3]|[-10.50414706694325,8.85173393899932,1.6524131279439302]   |[3.922142313093948E-9,0.9992534607586969,7.465353191607532E-4]    |1.0       |\n",
            "|1.0  |[5.9,3.2,4.8,1.8]|[-13.301605753102724,6.238922164230128,7.062683588872602]  |[9.951938579235339E-10,0.30496579740137963,0.6950342016034264]    |2.0       |\n",
            "|1.0  |[6.0,2.2,4.0,1.0]|[-15.259133224688146,15.008459296717284,0.2506739279708654]|[7.160633042139833E-14,0.9999996102598394,3.897400889869154E-7]   |1.0       |\n",
            "|1.0  |[6.0,2.9,4.5,1.5]|[-13.351956935695409,9.434053145993108,3.917903789702308]  |[1.265956052153693E-10,0.9959948032106609,0.004005196662743373]   |1.0       |\n",
            "|1.0  |[6.1,2.8,4.0,1.3]|[-10.59173520415354,11.72639249724389,-1.1346572930903314] |[2.0293603219871818E-10,0.9999974025341369,2.597262927044905E-6]  |1.0       |\n",
            "|1.0  |[6.1,2.8,4.7,1.2]|[-13.048128157650442,10.662308327110491,2.385819830539951] |[5.041709148807179E-11,0.9997456356055238,2.5436434405922326E-4]  |1.0       |\n",
            "|1.0  |[6.1,2.9,4.7,1.4]|[-13.89451053337429,9.757093898609451,4.137416634764847]   |[5.32925970922577E-11,0.9963872878580037,0.0036127120887037524]   |1.0       |\n",
            "|1.0  |[6.3,2.3,4.4,1.3]|[-21.328710217630476,14.694045843157912,6.634664374472571] |[2.2666191380711577E-16,0.9996839776253421,3.160223746575703E-4]  |1.0       |\n",
            "|1.0  |[6.8,2.8,4.8,1.4]|[-20.54828529487173,13.587547350777484,6.960737944094248]  |[1.4942437762273772E-15,0.9986773697513349,0.0013226302486634134] |1.0       |\n",
            "+-----+-----------------+-----------------------------------------------------------+------------------------------------------------------------------+----------+\n",
            "only showing top 30 rows\n",
            "\n"
          ]
        }
      ]
    },
    {
      "cell_type": "code",
      "source": [
        "from sklearn.metrics import classification_report, confusion_matrix\n",
        "\n",
        "y_true = df_resultado.select(['label']).collect()\n",
        "y_pred = df_resultado.select(['prediction']).collect()\n",
        "\n",
        "from sklearn.metrics import classification_report, confusion_matrix\n",
        "print(classification_report(y_true, y_pred))"
      ],
      "metadata": {
        "colab": {
          "base_uri": "https://localhost:8080/"
        },
        "id": "os3BqsfZHM8J",
        "outputId": "6116ac2b-db25-49ad-e518-e12e3f7051e3"
      },
      "execution_count": 73,
      "outputs": [
        {
          "output_type": "stream",
          "name": "stdout",
          "text": [
            "              precision    recall  f1-score   support\n",
            "\n",
            "         0.0       1.00      1.00      1.00        13\n",
            "         1.0       1.00      0.94      0.97        17\n",
            "         2.0       0.94      1.00      0.97        17\n",
            "\n",
            "    accuracy                           0.98        47\n",
            "   macro avg       0.98      0.98      0.98        47\n",
            "weighted avg       0.98      0.98      0.98        47\n",
            "\n"
          ]
        }
      ]
    }
  ]
}